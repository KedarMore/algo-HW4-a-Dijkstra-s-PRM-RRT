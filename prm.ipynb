{
 "metadata": {
  "language_info": {
   "codemirror_mode": {
    "name": "ipython",
    "version": 3
   },
   "file_extension": ".py",
   "mimetype": "text/x-python",
   "name": "python",
   "nbconvert_exporter": "python",
   "pygments_lexer": "ipython3",
   "version": "3.6.9-final"
  },
  "orig_nbformat": 2,
  "kernelspec": {
   "name": "python36964bit470afb7db70e4afda6adc759ef95f8be",
   "display_name": "Python 3.6.9 64-bit"
  }
 },
 "nbformat": 4,
 "nbformat_minor": 2,
 "cells": [
  {
   "cell_type": "code",
   "execution_count": 75,
   "metadata": {},
   "outputs": [],
   "source": [
    "import numpy as np\n",
    "import matplotlib.pyplot as plt\n",
    "import time"
   ]
  },
  {
   "cell_type": "code",
   "execution_count": 2,
   "metadata": {},
   "outputs": [],
   "source": [
    "def inside_obstacle(point,obstacle):\n",
    "    \"\"\"\n",
    "    returns 1 if the point is inside any obstacles\n",
    "    0 otherwise\n",
    "    \"\"\"\n",
    "    for obs in obstacle:\n",
    "        if point[0]>obs[0][0] and point[0]<obs[0][2] and point[1]>obs[1][0] and point[1]<obs[1][2]:\n",
    "            return 1\n",
    "    return 0\n",
    "\n",
    "def through_obstacle(line,obstacles):\n",
    "    \"\"\"\n",
    "    returns 1 if the line goes through any obstacles\n",
    "    0 otherwise\n",
    "    \"\"\"\n",
    "    for i in range(10):\n",
    "        if inside_obstacle((line[0]+(i*(line[2]-line[0])/10),line[1]+(i*(line[3]-line[1])/10)),obstacles)==1:\n",
    "            return 1\n",
    "    return 0"
   ]
  },
  {
   "cell_type": "code",
   "execution_count": 255,
   "metadata": {},
   "outputs": [
    {
     "output_type": "display_data",
     "data": {
      "text/plain": "<Figure size 432x288 with 1 Axes>",
      "image/svg+xml": "<?xml version=\"1.0\" encoding=\"utf-8\" standalone=\"no\"?>\n<!DOCTYPE svg PUBLIC \"-//W3C//DTD SVG 1.1//EN\"\n  \"http://www.w3.org/Graphics/SVG/1.1/DTD/svg11.dtd\">\n<!-- Created with matplotlib (https://matplotlib.org/) -->\n<svg height=\"248.518125pt\" version=\"1.1\" viewBox=\"0 0 370.942187 248.518125\" width=\"370.942187pt\" xmlns=\"http://www.w3.org/2000/svg\" xmlns:xlink=\"http://www.w3.org/1999/xlink\">\n <metadata>\n  <rdf:RDF xmlns:cc=\"http://creativecommons.org/ns#\" xmlns:dc=\"http://purl.org/dc/elements/1.1/\" xmlns:rdf=\"http://www.w3.org/1999/02/22-rdf-syntax-ns#\">\n   <cc:Work>\n    <dc:type rdf:resource=\"http://purl.org/dc/dcmitype/StillImage\"/>\n    <dc:date>2020-10-27T02:49:10.177293</dc:date>\n    <dc:format>image/svg+xml</dc:format>\n    <dc:creator>\n     <cc:Agent>\n      <dc:title>Matplotlib v3.3.1, https://matplotlib.org/</dc:title>\n     </cc:Agent>\n    </dc:creator>\n   </cc:Work>\n  </rdf:RDF>\n </metadata>\n <defs>\n  <style type=\"text/css\">*{stroke-linecap:butt;stroke-linejoin:round;}</style>\n </defs>\n <g id=\"figure_1\">\n  <g id=\"patch_1\">\n   <path d=\"M 0 248.518125 \nL 370.942187 248.518125 \nL 370.942187 0 \nL 0 0 \nz\n\" style=\"fill:none;\"/>\n  </g>\n  <g id=\"axes_1\">\n   <g id=\"patch_2\">\n    <path d=\"M 28.942188 224.64 \nL 363.742188 224.64 \nL 363.742188 7.2 \nL 28.942188 7.2 \nz\n\" style=\"fill:#ffffff;\"/>\n   </g>\n   <g id=\"PathCollection_1\">\n    <defs>\n     <path d=\"M 0 3 \nC 0.795609 3 1.55874 2.683901 2.12132 2.12132 \nC 2.683901 1.55874 3 0.795609 3 0 \nC 3 -0.795609 2.683901 -1.55874 2.12132 -2.12132 \nC 1.55874 -2.683901 0.795609 -3 0 -3 \nC -0.795609 -3 -1.55874 -2.683901 -2.12132 -2.12132 \nC -2.683901 -1.55874 -3 -0.795609 -3 0 \nC -3 0.795609 -2.683901 1.55874 -2.12132 2.12132 \nC -1.55874 2.683901 -0.795609 3 0 3 \nz\n\" id=\"mb8f8401768\" style=\"stroke:#1f77b4;\"/>\n    </defs>\n    <g clip-path=\"url(#pd4b65b3a28)\">\n     <use style=\"fill:#1f77b4;stroke:#1f77b4;\" x=\"348.524006\" xlink:href=\"#mb8f8401768\" y=\"153.121224\"/>\n     <use style=\"fill:#1f77b4;stroke:#1f77b4;\" x=\"234.887836\" xlink:href=\"#mb8f8401768\" y=\"56.570974\"/>\n     <use style=\"fill:#1f77b4;stroke:#1f77b4;\" x=\"144.16283\" xlink:href=\"#mb8f8401768\" y=\"204.039835\"/>\n     <use style=\"fill:#1f77b4;stroke:#1f77b4;\" x=\"199.152406\" xlink:href=\"#mb8f8401768\" y=\"159.337432\"/>\n     <use style=\"fill:#1f77b4;stroke:#1f77b4;\" x=\"44.160369\" xlink:href=\"#mb8f8401768\" y=\"78.494333\"/>\n     <use style=\"fill:#1f77b4;stroke:#1f77b4;\" x=\"236.692179\" xlink:href=\"#mb8f8401768\" y=\"187.364397\"/>\n     <use style=\"fill:#1f77b4;stroke:#1f77b4;\" x=\"61.272079\" xlink:href=\"#mb8f8401768\" y=\"214.756364\"/>\n     <use style=\"fill:#1f77b4;stroke:#1f77b4;\" x=\"77.900317\" xlink:href=\"#mb8f8401768\" y=\"160.092895\"/>\n     <use style=\"fill:#1f77b4;stroke:#1f77b4;\" x=\"58.199482\" xlink:href=\"#mb8f8401768\" y=\"100.937994\"/>\n     <use style=\"fill:#1f77b4;stroke:#1f77b4;\" x=\"187.348067\" xlink:href=\"#mb8f8401768\" y=\"129.153774\"/>\n     <use style=\"fill:#1f77b4;stroke:#1f77b4;\" x=\"75.163114\" xlink:href=\"#mb8f8401768\" y=\"53.369503\"/>\n     <use style=\"fill:#1f77b4;stroke:#1f77b4;\" x=\"136.865666\" xlink:href=\"#mb8f8401768\" y=\"157.620306\"/>\n     <use style=\"fill:#1f77b4;stroke:#1f77b4;\" x=\"206.454354\" xlink:href=\"#mb8f8401768\" y=\"72.491072\"/>\n     <use style=\"fill:#1f77b4;stroke:#1f77b4;\" x=\"249.370052\" xlink:href=\"#mb8f8401768\" y=\"84.307167\"/>\n     <use style=\"fill:#1f77b4;stroke:#1f77b4;\" x=\"196.291748\" xlink:href=\"#mb8f8401768\" y=\"194.889543\"/>\n     <use style=\"fill:#1f77b4;stroke:#1f77b4;\" x=\"295.975303\" xlink:href=\"#mb8f8401768\" y=\"175.607535\"/>\n     <use style=\"fill:#1f77b4;stroke:#1f77b4;\" x=\"169.759693\" xlink:href=\"#mb8f8401768\" y=\"45.111442\"/>\n     <use style=\"fill:#1f77b4;stroke:#1f77b4;\" x=\"121.915781\" xlink:href=\"#mb8f8401768\" y=\"36.098944\"/>\n     <use style=\"fill:#1f77b4;stroke:#1f77b4;\" x=\"48.905739\" xlink:href=\"#mb8f8401768\" y=\"118.622368\"/>\n     <use style=\"fill:#1f77b4;stroke:#1f77b4;\" x=\"126.702146\" xlink:href=\"#mb8f8401768\" y=\"17.083636\"/>\n    </g>\n   </g>\n   <g id=\"patch_3\">\n    <path clip-path=\"url(#pd4b65b3a28)\" d=\"M 153.134208 100.279339 \nL 182.563114 100.279339 \nL 182.563114 62.942463 \nL 153.134208 62.942463 \nz\n\"/>\n   </g>\n   <g id=\"patch_4\">\n    <path clip-path=\"url(#pd4b65b3a28)\" d=\"M 241.420925 174.95309 \nL 270.849831 174.95309 \nL 270.849831 137.616214 \nL 241.420925 137.616214 \nz\n\"/>\n   </g>\n   <g id=\"matplotlib.axis_1\">\n    <g id=\"xtick_1\">\n     <g id=\"line2d_1\">\n      <defs>\n       <path d=\"M 0 0 \nL 0 3.5 \n\" id=\"m51e6d2b291\" style=\"stroke:#000000;stroke-width:0.8;\"/>\n      </defs>\n      <g>\n       <use style=\"stroke:#000000;stroke-width:0.8;\" x=\"50.133037\" xlink:href=\"#m51e6d2b291\" y=\"224.64\"/>\n      </g>\n     </g>\n     <g id=\"text_1\">\n      <!-- 0 -->\n      <g transform=\"translate(46.951787 239.238437)scale(0.1 -0.1)\">\n       <defs>\n        <path d=\"M 31.78125 66.40625 \nQ 24.171875 66.40625 20.328125 58.90625 \nQ 16.5 51.421875 16.5 36.375 \nQ 16.5 21.390625 20.328125 13.890625 \nQ 24.171875 6.390625 31.78125 6.390625 \nQ 39.453125 6.390625 43.28125 13.890625 \nQ 47.125 21.390625 47.125 36.375 \nQ 47.125 51.421875 43.28125 58.90625 \nQ 39.453125 66.40625 31.78125 66.40625 \nz\nM 31.78125 74.21875 \nQ 44.046875 74.21875 50.515625 64.515625 \nQ 56.984375 54.828125 56.984375 36.375 \nQ 56.984375 17.96875 50.515625 8.265625 \nQ 44.046875 -1.421875 31.78125 -1.421875 \nQ 19.53125 -1.421875 13.0625 8.265625 \nQ 6.59375 17.96875 6.59375 36.375 \nQ 6.59375 54.828125 13.0625 64.515625 \nQ 19.53125 74.21875 31.78125 74.21875 \nz\n\" id=\"DejaVuSans-48\"/>\n       </defs>\n       <use xlink:href=\"#DejaVuSans-48\"/>\n      </g>\n     </g>\n    </g>\n    <g id=\"xtick_2\">\n     <g id=\"line2d_2\">\n      <g>\n       <use style=\"stroke:#000000;stroke-width:0.8;\" x=\"108.990849\" xlink:href=\"#m51e6d2b291\" y=\"224.64\"/>\n      </g>\n     </g>\n     <g id=\"text_2\">\n      <!-- 2 -->\n      <g transform=\"translate(105.809599 239.238437)scale(0.1 -0.1)\">\n       <defs>\n        <path d=\"M 19.1875 8.296875 \nL 53.609375 8.296875 \nL 53.609375 0 \nL 7.328125 0 \nL 7.328125 8.296875 \nQ 12.9375 14.109375 22.625 23.890625 \nQ 32.328125 33.6875 34.8125 36.53125 \nQ 39.546875 41.84375 41.421875 45.53125 \nQ 43.3125 49.21875 43.3125 52.78125 \nQ 43.3125 58.59375 39.234375 62.25 \nQ 35.15625 65.921875 28.609375 65.921875 \nQ 23.96875 65.921875 18.8125 64.3125 \nQ 13.671875 62.703125 7.8125 59.421875 \nL 7.8125 69.390625 \nQ 13.765625 71.78125 18.9375 73 \nQ 24.125 74.21875 28.421875 74.21875 \nQ 39.75 74.21875 46.484375 68.546875 \nQ 53.21875 62.890625 53.21875 53.421875 \nQ 53.21875 48.921875 51.53125 44.890625 \nQ 49.859375 40.875 45.40625 35.40625 \nQ 44.1875 33.984375 37.640625 27.21875 \nQ 31.109375 20.453125 19.1875 8.296875 \nz\n\" id=\"DejaVuSans-50\"/>\n       </defs>\n       <use xlink:href=\"#DejaVuSans-50\"/>\n      </g>\n     </g>\n    </g>\n    <g id=\"xtick_3\">\n     <g id=\"line2d_3\">\n      <g>\n       <use style=\"stroke:#000000;stroke-width:0.8;\" x=\"167.848661\" xlink:href=\"#m51e6d2b291\" y=\"224.64\"/>\n      </g>\n     </g>\n     <g id=\"text_3\">\n      <!-- 4 -->\n      <g transform=\"translate(164.667411 239.238437)scale(0.1 -0.1)\">\n       <defs>\n        <path d=\"M 37.796875 64.3125 \nL 12.890625 25.390625 \nL 37.796875 25.390625 \nz\nM 35.203125 72.90625 \nL 47.609375 72.90625 \nL 47.609375 25.390625 \nL 58.015625 25.390625 \nL 58.015625 17.1875 \nL 47.609375 17.1875 \nL 47.609375 0 \nL 37.796875 0 \nL 37.796875 17.1875 \nL 4.890625 17.1875 \nL 4.890625 26.703125 \nz\n\" id=\"DejaVuSans-52\"/>\n       </defs>\n       <use xlink:href=\"#DejaVuSans-52\"/>\n      </g>\n     </g>\n    </g>\n    <g id=\"xtick_4\">\n     <g id=\"line2d_4\">\n      <g>\n       <use style=\"stroke:#000000;stroke-width:0.8;\" x=\"226.706473\" xlink:href=\"#m51e6d2b291\" y=\"224.64\"/>\n      </g>\n     </g>\n     <g id=\"text_4\">\n      <!-- 6 -->\n      <g transform=\"translate(223.525223 239.238437)scale(0.1 -0.1)\">\n       <defs>\n        <path d=\"M 33.015625 40.375 \nQ 26.375 40.375 22.484375 35.828125 \nQ 18.609375 31.296875 18.609375 23.390625 \nQ 18.609375 15.53125 22.484375 10.953125 \nQ 26.375 6.390625 33.015625 6.390625 \nQ 39.65625 6.390625 43.53125 10.953125 \nQ 47.40625 15.53125 47.40625 23.390625 \nQ 47.40625 31.296875 43.53125 35.828125 \nQ 39.65625 40.375 33.015625 40.375 \nz\nM 52.59375 71.296875 \nL 52.59375 62.3125 \nQ 48.875 64.0625 45.09375 64.984375 \nQ 41.3125 65.921875 37.59375 65.921875 \nQ 27.828125 65.921875 22.671875 59.328125 \nQ 17.53125 52.734375 16.796875 39.40625 \nQ 19.671875 43.65625 24.015625 45.921875 \nQ 28.375 48.1875 33.59375 48.1875 \nQ 44.578125 48.1875 50.953125 41.515625 \nQ 57.328125 34.859375 57.328125 23.390625 \nQ 57.328125 12.15625 50.6875 5.359375 \nQ 44.046875 -1.421875 33.015625 -1.421875 \nQ 20.359375 -1.421875 13.671875 8.265625 \nQ 6.984375 17.96875 6.984375 36.375 \nQ 6.984375 53.65625 15.1875 63.9375 \nQ 23.390625 74.21875 37.203125 74.21875 \nQ 40.921875 74.21875 44.703125 73.484375 \nQ 48.484375 72.75 52.59375 71.296875 \nz\n\" id=\"DejaVuSans-54\"/>\n       </defs>\n       <use xlink:href=\"#DejaVuSans-54\"/>\n      </g>\n     </g>\n    </g>\n    <g id=\"xtick_5\">\n     <g id=\"line2d_5\">\n      <g>\n       <use style=\"stroke:#000000;stroke-width:0.8;\" x=\"285.564284\" xlink:href=\"#m51e6d2b291\" y=\"224.64\"/>\n      </g>\n     </g>\n     <g id=\"text_5\">\n      <!-- 8 -->\n      <g transform=\"translate(282.383034 239.238437)scale(0.1 -0.1)\">\n       <defs>\n        <path d=\"M 31.78125 34.625 \nQ 24.75 34.625 20.71875 30.859375 \nQ 16.703125 27.09375 16.703125 20.515625 \nQ 16.703125 13.921875 20.71875 10.15625 \nQ 24.75 6.390625 31.78125 6.390625 \nQ 38.8125 6.390625 42.859375 10.171875 \nQ 46.921875 13.96875 46.921875 20.515625 \nQ 46.921875 27.09375 42.890625 30.859375 \nQ 38.875 34.625 31.78125 34.625 \nz\nM 21.921875 38.8125 \nQ 15.578125 40.375 12.03125 44.71875 \nQ 8.5 49.078125 8.5 55.328125 \nQ 8.5 64.0625 14.71875 69.140625 \nQ 20.953125 74.21875 31.78125 74.21875 \nQ 42.671875 74.21875 48.875 69.140625 \nQ 55.078125 64.0625 55.078125 55.328125 \nQ 55.078125 49.078125 51.53125 44.71875 \nQ 48 40.375 41.703125 38.8125 \nQ 48.828125 37.15625 52.796875 32.3125 \nQ 56.78125 27.484375 56.78125 20.515625 \nQ 56.78125 9.90625 50.3125 4.234375 \nQ 43.84375 -1.421875 31.78125 -1.421875 \nQ 19.734375 -1.421875 13.25 4.234375 \nQ 6.78125 9.90625 6.78125 20.515625 \nQ 6.78125 27.484375 10.78125 32.3125 \nQ 14.796875 37.15625 21.921875 38.8125 \nz\nM 18.3125 54.390625 \nQ 18.3125 48.734375 21.84375 45.5625 \nQ 25.390625 42.390625 31.78125 42.390625 \nQ 38.140625 42.390625 41.71875 45.5625 \nQ 45.3125 48.734375 45.3125 54.390625 \nQ 45.3125 60.0625 41.71875 63.234375 \nQ 38.140625 66.40625 31.78125 66.40625 \nQ 25.390625 66.40625 21.84375 63.234375 \nQ 18.3125 60.0625 18.3125 54.390625 \nz\n\" id=\"DejaVuSans-56\"/>\n       </defs>\n       <use xlink:href=\"#DejaVuSans-56\"/>\n      </g>\n     </g>\n    </g>\n    <g id=\"xtick_6\">\n     <g id=\"line2d_6\">\n      <g>\n       <use style=\"stroke:#000000;stroke-width:0.8;\" x=\"344.422096\" xlink:href=\"#m51e6d2b291\" y=\"224.64\"/>\n      </g>\n     </g>\n     <g id=\"text_6\">\n      <!-- 10 -->\n      <g transform=\"translate(338.059596 239.238437)scale(0.1 -0.1)\">\n       <defs>\n        <path d=\"M 12.40625 8.296875 \nL 28.515625 8.296875 \nL 28.515625 63.921875 \nL 10.984375 60.40625 \nL 10.984375 69.390625 \nL 28.421875 72.90625 \nL 38.28125 72.90625 \nL 38.28125 8.296875 \nL 54.390625 8.296875 \nL 54.390625 0 \nL 12.40625 0 \nz\n\" id=\"DejaVuSans-49\"/>\n       </defs>\n       <use xlink:href=\"#DejaVuSans-49\"/>\n       <use x=\"63.623047\" xlink:href=\"#DejaVuSans-48\"/>\n      </g>\n     </g>\n    </g>\n   </g>\n   <g id=\"matplotlib.axis_2\">\n    <g id=\"ytick_1\">\n     <g id=\"line2d_7\">\n      <defs>\n       <path d=\"M 0 0 \nL -3.5 0 \n\" id=\"mf5534c92dc\" style=\"stroke:#000000;stroke-width:0.8;\"/>\n      </defs>\n      <g>\n       <use style=\"stroke:#000000;stroke-width:0.8;\" x=\"28.942188\" xlink:href=\"#mf5534c92dc\" y=\"193.621528\"/>\n      </g>\n     </g>\n     <g id=\"text_7\">\n      <!-- −2 -->\n      <g transform=\"translate(7.2 197.420747)scale(0.1 -0.1)\">\n       <defs>\n        <path d=\"M 10.59375 35.5 \nL 73.1875 35.5 \nL 73.1875 27.203125 \nL 10.59375 27.203125 \nz\n\" id=\"DejaVuSans-8722\"/>\n       </defs>\n       <use xlink:href=\"#DejaVuSans-8722\"/>\n       <use x=\"83.789062\" xlink:href=\"#DejaVuSans-50\"/>\n      </g>\n     </g>\n    </g>\n    <g id=\"ytick_2\">\n     <g id=\"line2d_8\">\n      <g>\n       <use style=\"stroke:#000000;stroke-width:0.8;\" x=\"28.942188\" xlink:href=\"#mf5534c92dc\" y=\"156.284652\"/>\n      </g>\n     </g>\n     <g id=\"text_8\">\n      <!-- −1 -->\n      <g transform=\"translate(7.2 160.083871)scale(0.1 -0.1)\">\n       <use xlink:href=\"#DejaVuSans-8722\"/>\n       <use x=\"83.789062\" xlink:href=\"#DejaVuSans-49\"/>\n      </g>\n     </g>\n    </g>\n    <g id=\"ytick_3\">\n     <g id=\"line2d_9\">\n      <g>\n       <use style=\"stroke:#000000;stroke-width:0.8;\" x=\"28.942188\" xlink:href=\"#mf5534c92dc\" y=\"118.947777\"/>\n      </g>\n     </g>\n     <g id=\"text_9\">\n      <!-- 0 -->\n      <g transform=\"translate(15.579688 122.746995)scale(0.1 -0.1)\">\n       <use xlink:href=\"#DejaVuSans-48\"/>\n      </g>\n     </g>\n    </g>\n    <g id=\"ytick_4\">\n     <g id=\"line2d_10\">\n      <g>\n       <use style=\"stroke:#000000;stroke-width:0.8;\" x=\"28.942188\" xlink:href=\"#mf5534c92dc\" y=\"81.610901\"/>\n      </g>\n     </g>\n     <g id=\"text_10\">\n      <!-- 1 -->\n      <g transform=\"translate(15.579688 85.41012)scale(0.1 -0.1)\">\n       <use xlink:href=\"#DejaVuSans-49\"/>\n      </g>\n     </g>\n    </g>\n    <g id=\"ytick_5\">\n     <g id=\"line2d_11\">\n      <g>\n       <use style=\"stroke:#000000;stroke-width:0.8;\" x=\"28.942188\" xlink:href=\"#mf5534c92dc\" y=\"44.274025\"/>\n      </g>\n     </g>\n     <g id=\"text_11\">\n      <!-- 2 -->\n      <g transform=\"translate(15.579688 48.073244)scale(0.1 -0.1)\">\n       <use xlink:href=\"#DejaVuSans-50\"/>\n      </g>\n     </g>\n    </g>\n   </g>\n   <g id=\"line2d_12\">\n    <path clip-path=\"url(#pd4b65b3a28)\" d=\"M 234.887836 56.570974 \nL 249.370052 84.307167 \n\" style=\"fill:none;stroke:#000000;stroke-linecap:square;stroke-opacity:0.3;stroke-width:1.5;\"/>\n   </g>\n   <g id=\"line2d_13\">\n    <path clip-path=\"url(#pd4b65b3a28)\" d=\"M 199.152406 159.337432 \nL 187.348067 129.153774 \n\" style=\"fill:none;stroke:#000000;stroke-linecap:square;stroke-opacity:0.3;stroke-width:1.5;\"/>\n   </g>\n   <g id=\"line2d_14\">\n    <path clip-path=\"url(#pd4b65b3a28)\" d=\"M 199.152406 159.337432 \nL 196.291748 194.889543 \n\" style=\"fill:none;stroke:#000000;stroke-linecap:square;stroke-opacity:0.3;stroke-width:1.5;\"/>\n   </g>\n   <g id=\"line2d_15\">\n    <path clip-path=\"url(#pd4b65b3a28)\" d=\"M 44.160369 78.494333 \nL 58.199482 100.937994 \n\" style=\"fill:none;stroke:#000000;stroke-linecap:square;stroke-opacity:0.3;stroke-width:1.5;\"/>\n   </g>\n   <g id=\"line2d_16\">\n    <path clip-path=\"url(#pd4b65b3a28)\" d=\"M 58.199482 100.937994 \nL 44.160369 78.494333 \n\" style=\"fill:none;stroke:#000000;stroke-linecap:square;stroke-opacity:0.3;stroke-width:1.5;\"/>\n   </g>\n   <g id=\"line2d_17\">\n    <path clip-path=\"url(#pd4b65b3a28)\" d=\"M 58.199482 100.937994 \nL 48.905739 118.622368 \n\" style=\"fill:none;stroke:#000000;stroke-linecap:square;stroke-opacity:0.3;stroke-width:1.5;\"/>\n   </g>\n   <g id=\"line2d_18\">\n    <path clip-path=\"url(#pd4b65b3a28)\" d=\"M 187.348067 129.153774 \nL 199.152406 159.337432 \n\" style=\"fill:none;stroke:#000000;stroke-linecap:square;stroke-opacity:0.3;stroke-width:1.5;\"/>\n   </g>\n   <g id=\"line2d_19\">\n    <path clip-path=\"url(#pd4b65b3a28)\" d=\"M 249.370052 84.307167 \nL 234.887836 56.570974 \n\" style=\"fill:none;stroke:#000000;stroke-linecap:square;stroke-opacity:0.3;stroke-width:1.5;\"/>\n   </g>\n   <g id=\"line2d_20\">\n    <path clip-path=\"url(#pd4b65b3a28)\" d=\"M 196.291748 194.889543 \nL 199.152406 159.337432 \n\" style=\"fill:none;stroke:#000000;stroke-linecap:square;stroke-opacity:0.3;stroke-width:1.5;\"/>\n   </g>\n   <g id=\"line2d_21\">\n    <path clip-path=\"url(#pd4b65b3a28)\" d=\"M 121.915781 36.098944 \nL 126.702146 17.083636 \n\" style=\"fill:none;stroke:#000000;stroke-linecap:square;stroke-opacity:0.3;stroke-width:1.5;\"/>\n   </g>\n   <g id=\"line2d_22\">\n    <path clip-path=\"url(#pd4b65b3a28)\" d=\"M 48.905739 118.622368 \nL 58.199482 100.937994 \n\" style=\"fill:none;stroke:#000000;stroke-linecap:square;stroke-opacity:0.3;stroke-width:1.5;\"/>\n   </g>\n   <g id=\"line2d_23\">\n    <path clip-path=\"url(#pd4b65b3a28)\" d=\"M 126.702146 17.083636 \nL 121.915781 36.098944 \n\" style=\"fill:none;stroke:#000000;stroke-linecap:square;stroke-opacity:0.3;stroke-width:1.5;\"/>\n   </g>\n   <g id=\"patch_5\">\n    <path d=\"M 28.942188 224.64 \nL 28.942188 7.2 \n\" style=\"fill:none;stroke:#000000;stroke-linecap:square;stroke-linejoin:miter;stroke-width:0.8;\"/>\n   </g>\n   <g id=\"patch_6\">\n    <path d=\"M 363.742188 224.64 \nL 363.742188 7.2 \n\" style=\"fill:none;stroke:#000000;stroke-linecap:square;stroke-linejoin:miter;stroke-width:0.8;\"/>\n   </g>\n   <g id=\"patch_7\">\n    <path d=\"M 28.942188 224.64 \nL 363.742188 224.64 \n\" style=\"fill:none;stroke:#000000;stroke-linecap:square;stroke-linejoin:miter;stroke-width:0.8;\"/>\n   </g>\n   <g id=\"patch_8\">\n    <path d=\"M 28.942188 7.2 \nL 363.742188 7.2 \n\" style=\"fill:none;stroke:#000000;stroke-linecap:square;stroke-linejoin:miter;stroke-width:0.8;\"/>\n   </g>\n  </g>\n </g>\n <defs>\n  <clipPath id=\"pd4b65b3a28\">\n   <rect height=\"217.44\" width=\"334.8\" x=\"28.942188\" y=\"7.2\"/>\n  </clipPath>\n </defs>\n</svg>\n",
      "image/png": "[encoded data removed]"
     },
     "metadata": {
      "needs_background": "light"
     }
    }
   ],
   "source": [
    "# ********************************************************************************* #\n",
    "# LEARNING\n",
    "# ********************************************************************************* #\n",
    "\n",
    "# obstacle\n",
    "obstacles=[[(3.5,4.5,4.5,3.5),(0.5,0.5,1.5,1.5)],\n",
    "           [(6.5,7.5,7.5,6.5),(-1.5,-1.5,-0.5,-0.5)]]\n",
    "xlimits=[-1,11]\n",
    "ylimits=[-3,3]\n",
    "for obs in obstacles:\n",
    "    plt.fill(*obs,'k',alpha=1)\n",
    "\n",
    "# samples\n",
    "noofsamples=20\n",
    "x=np.random.uniform(*xlimits,noofsamples)\n",
    "y=np.random.uniform(*ylimits,noofsamples)\n",
    "# x=(np.random.rand(200)*12)-1\n",
    "# y=(np.random.rand(200)*6)-3\n",
    "\n",
    "# eliminate samples inside obstacles\n",
    "xindex=np.array([],dtype=int)\n",
    "yindex=np.array([],dtype=int)\n",
    "for i in range(len(x)):\n",
    "    if inside_obstacle((x[i],y[i]),obstacles):\n",
    "        xindex=np.append(xindex,i)\n",
    "        yindex=np.append(yindex,i)\n",
    "x=np.delete(x,xindex)\n",
    "y=np.delete(y,yindex)\n",
    "\n",
    "# plot\n",
    "graph=[]\n",
    "plt.scatter(x,y)\n",
    "for i in range(len(x)):\n",
    "    for j in range(len(y)):\n",
    "        if np.sqrt((x[i]-x[j])**2+(y[i]-y[j])**2)<=1 and x[i]!=x[j] and y[i]!=y[j]:\n",
    "            if through_obstacle((x[i],y[i],x[j],y[j]),obstacles)==0:\n",
    "                plt.plot([x[i],x[j]],[y[i],y[j]],'k',alpha=0.3)\n",
    "                graph.append([round(x[i],2),round(y[i],2),round(x[j],2),round(y[j],2)])\n",
    "                pass\n",
    "            pass"
   ]
  },
  {
   "cell_type": "code",
   "execution_count": 256,
   "metadata": {},
   "outputs": [],
   "source": [
    "# graph[0][:2]\n",
    "# graph[0][2:]\n",
    "\n",
    "g_dict={}\n",
    "\n",
    "for i in range(len(graph)):\n",
    "    if str(graph[i][:2]) in g_dict.keys():\n",
    "        g_dict[str(graph[i][:2])].append(str(graph[i][2:]))\n",
    "        pass\n",
    "    else:\n",
    "        g_dict[str(graph[i][:2])]=[str(graph[i][2:])]\n"
   ]
  },
  {
   "cell_type": "code",
   "execution_count": 257,
   "metadata": {},
   "outputs": [],
   "source": [
    "for key in g_dict.keys():\n",
    "    g_dict[key]=[g_dict[key]]\n",
    "    g_dict[key].append([1]*len(g_dict[key][0]))\n"
   ]
  },
  {
   "cell_type": "code",
   "execution_count": 258,
   "metadata": {},
   "outputs": [
    {
     "output_type": "execute_result",
     "data": {
      "text/plain": [
       "{'[6.28, 1.67]': [['[6.77, 0.93]'], [1]],\n",
       " '[5.06, -1.08]': [['[4.66, -0.27]', '[4.97, -2.03]'], [1, 1]],\n",
       " '[-0.2, 1.08]': [['[0.27, 0.48]'], [1]],\n",
       " '[0.27, 0.48]': [['[-0.2, 1.08]', '[-0.04, 0.01]'], [1, 1]],\n",
       " '[4.66, -0.27]': [['[5.06, -1.08]'], [1]],\n",
       " '[6.77, 0.93]': [['[6.28, 1.67]'], [1]],\n",
       " '[4.97, -2.03]': [['[5.06, -1.08]'], [1]],\n",
       " '[2.44, 2.22]': [['[2.6, 2.73]'], [1]],\n",
       " '[-0.04, 0.01]': [['[0.27, 0.48]'], [1]],\n",
       " '[2.6, 2.73]': [['[2.44, 2.22]'], [1]]}"
      ]
     },
     "metadata": {},
     "execution_count": 258
    }
   ],
   "source": [
    "g_dict"
   ]
  },
  {
   "cell_type": "code",
   "execution_count": 11,
   "metadata": {},
   "outputs": [],
   "source": [
    "# ********************************************************************************* #\n",
    "# CREATE A GRAPH (UNDIRECTED)\n",
    "# ********************************************************************************* #\n",
    "\n",
    "# example\n",
    "graph={\"vstart\" : [[\"A\",\"B\",\"C\"],[1,1,1],0],\n",
    "       \"A\" : [[\"D\",\"E\",\"F\"],[1,1,3],3],\n",
    "       \"B\" : [[\"G\",\"H\",\"I\"],[4,1,2],2],\n",
    "       \"C\" : [[\"J\",\"K\",\"L\"],[1,1,1],3],\n",
    "       \"D\" : [[],[],3],\n",
    "       \"E\" : [[\"vgoal\"],[3],1],\n",
    "       \"F\" : [[],[],3],\n",
    "       \"G\" : [[\"vgoal\"],[3],2],\n",
    "       \"H\" : [[],[],1],\n",
    "       \"I\" : [[\"vgoal\"],[3],2],\n",
    "       \"J\" : [[],[],3],\n",
    "       \"K\" : [[\"vgoal\"],[2],2],\n",
    "       \"L\" : [[],[],3],\n",
    "       \"vgoal\" : [[],[],0]}\n",
    "\n"
   ]
  },
  {
   "cell_type": "code",
   "execution_count": 28,
   "metadata": {},
   "outputs": [
    {
     "output_type": "execute_result",
     "data": {
      "text/plain": [
       "{'vstart': [['A', 'B', 'C'], [1, 1, 1], 0],\n",
       " 'A': [['D', 'E', 'F'], [1, 1, 3], 3],\n",
       " 'B': [['G', 'H', 'I'], [4, 1, 2], 2],\n",
       " 'C': [['J', 'K', 'L'], [1, 1, 1], 3],\n",
       " 'D': [[], [], 3],\n",
       " 'E': [['vgoal'], [3], 1],\n",
       " 'F': [[], [], 3],\n",
       " 'G': [['vgoal'], [3], 2],\n",
       " 'H': [[], [], 1],\n",
       " 'I': [7],\n",
       " 'J': [[], [], 3],\n",
       " 'K': [['vgoal'], [2], 2],\n",
       " 'L': [3, 6, 6, 6, 6, 6],\n",
       " 'vgoal': [[], [], 0],\n",
       " 'M': [7]}"
      ]
     },
     "metadata": {},
     "execution_count": 28
    }
   ],
   "source": [
    "# graph.update({\"L\":graph[\"L\"].append(3)})\n",
    "graph[\"M\"]=[7]\n",
    "graph"
   ]
  },
  {
   "cell_type": "code",
   "execution_count": 24,
   "metadata": {},
   "outputs": [],
   "source": [
    "# ********************************************************************************* #\n",
    "# APPLY DIJKSTRA'S\n",
    "# ********************************************************************************* #"
   ]
  },
  {
   "cell_type": "code",
   "execution_count": 260,
   "metadata": {},
   "outputs": [],
   "source": [
    "def pathcost(nodes):\n",
    "    '''\n",
    "    returns the path cost through the input nodes\n",
    "    '''\n",
    "    nodes.reverse()\n",
    "    # print(nodes)\n",
    "    length=0\n",
    "    for i in range(len(nodes)-1):\n",
    "        index=graph[nodes[i]][0].index(nodes[i+1])\n",
    "        length=length+(graph[nodes[i]][1][index])\n",
    "        pass\n",
    "    return length"
   ]
  },
  {
   "cell_type": "code",
   "execution_count": 264,
   "metadata": {
    "tags": []
   },
   "outputs": [
    {
     "output_type": "error",
     "ename": "IndexError",
     "evalue": "list index out of range",
     "traceback": [
      "\u001b[0;31m---------------------------------------------------------------------------\u001b[0m",
      "\u001b[0;31mIndexError\u001b[0m                                Traceback (most recent call last)",
      "\u001b[0;32m<ipython-input-264-90a06126bcb2>\u001b[0m in \u001b[0;36m<module>\u001b[0;34m\u001b[0m\n\u001b[1;32m     20\u001b[0m         \u001b[0mpath\u001b[0m\u001b[0;34m=\u001b[0m\u001b[0mpathcost\u001b[0m\u001b[0;34m(\u001b[0m\u001b[0;34m[\u001b[0m\u001b[0mchild\u001b[0m\u001b[0;34m,\u001b[0m\u001b[0;34m*\u001b[0m\u001b[0mstack\u001b[0m\u001b[0;34m[\u001b[0m\u001b[0;36m0\u001b[0m\u001b[0;34m]\u001b[0m\u001b[0;34m[\u001b[0m\u001b[0;36m1\u001b[0m\u001b[0;34m:\u001b[0m\u001b[0;34m]\u001b[0m\u001b[0;34m]\u001b[0m\u001b[0;34m)\u001b[0m\u001b[0;34m\u001b[0m\u001b[0;34m\u001b[0m\u001b[0m\n\u001b[1;32m     21\u001b[0m         \u001b[0;32mif\u001b[0m \u001b[0malgo\u001b[0m\u001b[0;34m==\u001b[0m\u001b[0;36m1\u001b[0m\u001b[0;34m:\u001b[0m\u001b[0;34m\u001b[0m\u001b[0;34m\u001b[0m\u001b[0m\n\u001b[0;32m---> 22\u001b[0;31m             \u001b[0mnewelement\u001b[0m\u001b[0;34m=\u001b[0m\u001b[0;34m[\u001b[0m\u001b[0mpath\u001b[0m\u001b[0;34m+\u001b[0m\u001b[0mint\u001b[0m\u001b[0;34m(\u001b[0m\u001b[0mgraph\u001b[0m\u001b[0;34m[\u001b[0m\u001b[0mchild\u001b[0m\u001b[0;34m]\u001b[0m\u001b[0;34m[\u001b[0m\u001b[0;36m2\u001b[0m\u001b[0;34m]\u001b[0m\u001b[0;34m)\u001b[0m\u001b[0;34m,\u001b[0m\u001b[0mchild\u001b[0m\u001b[0;34m,\u001b[0m\u001b[0;34m*\u001b[0m\u001b[0mstack\u001b[0m\u001b[0;34m[\u001b[0m\u001b[0;36m0\u001b[0m\u001b[0;34m]\u001b[0m\u001b[0;34m[\u001b[0m\u001b[0;36m1\u001b[0m\u001b[0;34m:\u001b[0m\u001b[0;34m]\u001b[0m\u001b[0;34m]\u001b[0m\u001b[0;34m\u001b[0m\u001b[0;34m\u001b[0m\u001b[0m\n\u001b[0m\u001b[1;32m     23\u001b[0m         \u001b[0;32melse\u001b[0m\u001b[0;34m:\u001b[0m\u001b[0;34m\u001b[0m\u001b[0;34m\u001b[0m\u001b[0m\n\u001b[1;32m     24\u001b[0m             \u001b[0mnewelement\u001b[0m\u001b[0;34m=\u001b[0m\u001b[0;34m[\u001b[0m\u001b[0mpath\u001b[0m\u001b[0;34m,\u001b[0m\u001b[0mchild\u001b[0m\u001b[0;34m,\u001b[0m\u001b[0;34m*\u001b[0m\u001b[0mstack\u001b[0m\u001b[0;34m[\u001b[0m\u001b[0;36m0\u001b[0m\u001b[0;34m]\u001b[0m\u001b[0;34m[\u001b[0m\u001b[0;36m1\u001b[0m\u001b[0;34m:\u001b[0m\u001b[0;34m]\u001b[0m\u001b[0;34m]\u001b[0m\u001b[0;34m\u001b[0m\u001b[0;34m\u001b[0m\u001b[0m\n",
      "\u001b[0;31mIndexError\u001b[0m: list index out of range"
     ]
    }
   ],
   "source": [
    "graph=g_dict\n",
    "algo=int(input(\"\\nWhich algorithm do you want to implement: a*(1) or dijkstra's(2)?\"))\n",
    "\n",
    "# starts with the start node\n",
    "stack=[[0,'[4.97, -2.03]']]\n",
    "C=[]\n",
    "# update\n",
    "final='[4.97, -2.03]'\n",
    "\n",
    "t1=time.time()\n",
    "\n",
    "iterations=0\n",
    "\n",
    "while final!='[4.66, -0.27]' and len(C)<len(graph):\n",
    "\n",
    "    # add child nodes\n",
    "    newstack=[]\n",
    "    # print([graph[stack[0][1]][0],graph[stack[0][1]][1]])\n",
    "    for child,cost in np.transpose([graph[stack[0][1]][0],graph[stack[0][1]][1]]):\n",
    "        path=pathcost([child,*stack[0][1:]])\n",
    "        if algo==1:\n",
    "            newelement=[path+int(graph[child][2]),child,*stack[0][1:]]\n",
    "        else:\n",
    "            newelement=[path,child,*stack[0][1:]]\n",
    "        newstack.append(newelement)\n",
    "    \n",
    "    # put first node in C list\n",
    "    if stack[0][1] not in C:\n",
    "        C.append(stack[0][1])\n",
    "        # print(C)\n",
    "\n",
    "    # delete first node in stack\n",
    "    stack.pop(0)\n",
    "\n",
    "    # update the newstack with remaining stack elements\n",
    "    for x in range(len(stack)):\n",
    "        newstack.append(stack[x])\n",
    "    stack=newstack\n",
    "\n",
    "    # sort\n",
    "    stack.sort()\n",
    "    print(stack)\n",
    "    final=stack[0][1]\n",
    "\n",
    "    iterations+=1\n",
    "\n",
    "    pass\n",
    "\n",
    "t2=time.time()-t1\n",
    "if final=='[4.66, -0.27]':\n",
    "    if algo==1:\n",
    "        print(\"\\nPath for A* is:\",stack[0][1:],\"\\nThe cost is:\",stack[0][0],\"\\nThe time taken is:\",t2,\"\\nIterations:\",iterations)\n",
    "    else:\n",
    "        print(\"\\nPath for Dijkstra's is:\",stack[0][1:],\"\\nThe cost is:\",stack[0][0],\"\\nThe time taken is:\",t2,\"\\nIterations:\",iterations)\n",
    "else:\n",
    "    print(\"\\nPath to Goal not found!!!\")"
   ]
  },
  {
   "cell_type": "code",
   "execution_count": 70,
   "metadata": {},
   "outputs": [
    {
     "output_type": "error",
     "ename": "KeyError",
     "evalue": "0",
     "traceback": [
      "\u001b[0;31m---------------------------------------------------------------------------\u001b[0m",
      "\u001b[0;31mKeyError\u001b[0m                                  Traceback (most recent call last)",
      "\u001b[0;32m<ipython-input-70-044b6c823ea9>\u001b[0m in \u001b[0;36m<module>\u001b[0;34m\u001b[0m\n\u001b[0;32m----> 1\u001b[0;31m \u001b[0mg_dict\u001b[0m\u001b[0;34m[\u001b[0m\u001b[0;36m0\u001b[0m\u001b[0;34m]\u001b[0m\u001b[0;34m\u001b[0m\u001b[0;34m\u001b[0m\u001b[0m\n\u001b[0m",
      "\u001b[0;31mKeyError\u001b[0m: 0"
     ]
    }
   ],
   "source": [
    "g_dict[()]"
   ]
  },
  {
   "cell_type": "code",
   "execution_count": null,
   "metadata": {},
   "outputs": [],
   "source": []
  }
 ]
}