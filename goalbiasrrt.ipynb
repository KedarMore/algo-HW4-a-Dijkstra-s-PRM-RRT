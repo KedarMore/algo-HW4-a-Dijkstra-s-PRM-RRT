{
 "metadata": {
  "language_info": {
   "codemirror_mode": {
    "name": "ipython",
    "version": 3
   },
   "file_extension": ".py",
   "mimetype": "text/x-python",
   "name": "python",
   "nbconvert_exporter": "python",
   "pygments_lexer": "ipython3",
   "version": "3.6.9-final"
  },
  "orig_nbformat": 2,
  "kernelspec": {
   "name": "python36964bit470afb7db70e4afda6adc759ef95f8be",
   "display_name": "Python 3.6.9 64-bit"
  }
 },
 "nbformat": 4,
 "nbformat_minor": 2,
 "cells": [
  {
   "cell_type": "code",
   "execution_count": 117,
   "metadata": {},
   "outputs": [],
   "source": [
    "import numpy as np\n",
    "import matplotlib.pyplot as plt\n",
    "import time"
   ]
  },
  {
   "cell_type": "code",
   "execution_count": 137,
   "metadata": {},
   "outputs": [],
   "source": [
    "def randompoint():\n",
    "    '''\n",
    "    returns a point in space with goal bias\n",
    "    '''\n",
    "    x1=np.random.uniform(*xlimits,1)\n",
    "    y1=np.random.uniform(*ylimits,1)\n",
    "    x2=goal[0]\n",
    "    y2=goal[1]\n",
    "\n",
    "    ch=np.random.choice([1,2],p=[1-0.05,0.05])\n",
    "    if ch==1:\n",
    "        return (x1[0],y1[0])\n",
    "    if ch==2:\n",
    "        return (x2,y2)\n",
    "\n",
    "def nearestnode(point):\n",
    "    '''\n",
    "    returns a nearest node from input\n",
    "    '''\n",
    "    mindist=float('inf')\n",
    "    for i in range(len(keys)):\n",
    "        dist=np.sqrt((keys[i][0]-point[0])**2+(keys[i][1]-point[1])**2)\n",
    "        if dist<mindist:\n",
    "            mindist=dist\n",
    "            indx=i\n",
    "    return keys[indx]\n",
    "\n",
    "def nextnode(node,point):\n",
    "    '''\n",
    "    returns the next node in tree if possible\n",
    "    else 1\n",
    "    '''\n",
    "    if np.sqrt((node[0]-point[0])**2+(node[1]-point[1])**2)>1:\n",
    "        angle=np.arctan2(point[1]-node[1],point[0]-node[0])\n",
    "        x=node[0]+step*np.cos(angle)\n",
    "        y=node[1]+step*np.sin(angle)\n",
    "        if through_obstacle((*node,x,y),obstacles)==1:\n",
    "            return 1\n",
    "        else:\n",
    "            return (x,y)\n",
    "    else:\n",
    "        if through_obstacle((*node,*point),obstacles)==1:\n",
    "            return 1\n",
    "        else:\n",
    "            return point\n",
    "\n",
    "def through_obstacle(line,obstacles):\n",
    "    \"\"\"\n",
    "    returns 1 if the line goes through any obstacles\n",
    "    0 otherwise\n",
    "    \"\"\"\n",
    "    for i in range(100):\n",
    "        if inside_obstacle((line[0]+(i*(line[2]-line[0])/10),line[1]+(i*(line[3]-line[1])/10)),obstacles)==1:\n",
    "            return 1\n",
    "    return 0\n",
    "\n",
    "def inside_obstacle(point,obstacle):\n",
    "    \"\"\"\n",
    "    returns 1 if the point is inside any obstacles\n",
    "    0 otherwise\n",
    "    \"\"\"\n",
    "    for obs in obstacle:\n",
    "        if point[0]>obs[0][0] and point[0]<obs[0][2] and point[1]>obs[1][0] and point[1]<obs[1][2]:\n",
    "            return 1\n",
    "    return 0"
   ]
  },
  {
   "cell_type": "code",
   "execution_count": 198,
   "metadata": {
    "tags": []
   },
   "outputs": [
    {
     "output_type": "stream",
     "name": "stdout",
     "text": [
      "found\n"
     ]
    },
    {
     "output_type": "display_data",
     "data": {
      "text/plain": "<Figure size 432x288 with 1 Axes>",
      "image/svg+xml": "<?xml version=\"1.0\" encoding=\"utf-8\" standalone=\"no\"?>\n<!DOCTYPE svg PUBLIC \"-//W3C//DTD SVG 1.1//EN\"\n  \"http://www.w3.org/Graphics/SVG/1.1/DTD/svg11.dtd\">\n<!-- Created with matplotlib (https://matplotlib.org/) -->\n<svg height=\"248.518125pt\" version=\"1.1\" viewBox=\"0 0 370.942187 248.518125\" width=\"370.942187pt\" xmlns=\"http://www.w3.org/2000/svg\" xmlns:xlink=\"http://www.w3.org/1999/xlink\">\n <metadata>\n  <rdf:RDF xmlns:cc=\"http://creativecommons.org/ns#\" xmlns:dc=\"http://purl.org/dc/elements/1.1/\" xmlns:rdf=\"http://www.w3.org/1999/02/22-rdf-syntax-ns#\">\n   <cc:Work>\n    <dc:type rdf:resource=\"http://purl.org/dc/dcmitype/StillImage\"/>\n    <dc:date>2020-10-29T02:49:20.809617</dc:date>\n    <dc:format>image/svg+xml</dc:format>\n    <dc:creator>\n     <cc:Agent>\n      <dc:title>Matplotlib v3.3.1, https://matplotlib.org/</dc:title>\n     </cc:Agent>\n    </dc:creator>\n   </cc:Work>\n  </rdf:RDF>\n </metadata>\n <defs>\n  <style type=\"text/css\">*{stroke-linecap:butt;stroke-linejoin:round;}</style>\n </defs>\n <g id=\"figure_1\">\n  <g id=\"patch_1\">\n   <path d=\"M 0 248.518125 \nL 370.942187 248.518125 \nL 370.942187 0 \nL 0 0 \nz\n\" style=\"fill:none;\"/>\n  </g>\n  <g id=\"axes_1\">\n   <g id=\"patch_2\">\n    <path d=\"M 28.942188 224.64 \nL 363.742188 224.64 \nL 363.742188 7.2 \nL 28.942188 7.2 \nz\n\" style=\"fill:#ffffff;\"/>\n   </g>\n   <g id=\"patch_3\">\n    <path clip-path=\"url(#p1d3146a0ff)\" d=\"M 150.687642 63.815953 \nL 181.124006 63.815953 \nL 181.124006 17.083636 \nL 150.687642 17.083636 \nz\n\"/>\n   </g>\n   <g id=\"patch_4\">\n    <path clip-path=\"url(#p1d3146a0ff)\" d=\"M 241.996733 157.280588 \nL 272.433097 157.280588 \nL 272.433097 110.548271 \nL 241.996733 110.548271 \nz\n\"/>\n   </g>\n   <g id=\"matplotlib.axis_1\">\n    <g id=\"xtick_1\">\n     <g id=\"line2d_1\">\n      <defs>\n       <path d=\"M 0 0 \nL 0 3.5 \n\" id=\"m19a8de855e\" style=\"stroke:#000000;stroke-width:0.8;\"/>\n      </defs>\n      <g>\n       <use style=\"stroke:#000000;stroke-width:0.8;\" x=\"44.160369\" xlink:href=\"#m19a8de855e\" y=\"224.64\"/>\n      </g>\n     </g>\n     <g id=\"text_1\">\n      <!-- 0 -->\n      <g transform=\"translate(40.979119 239.238437)scale(0.1 -0.1)\">\n       <defs>\n        <path d=\"M 31.78125 66.40625 \nQ 24.171875 66.40625 20.328125 58.90625 \nQ 16.5 51.421875 16.5 36.375 \nQ 16.5 21.390625 20.328125 13.890625 \nQ 24.171875 6.390625 31.78125 6.390625 \nQ 39.453125 6.390625 43.28125 13.890625 \nQ 47.125 21.390625 47.125 36.375 \nQ 47.125 51.421875 43.28125 58.90625 \nQ 39.453125 66.40625 31.78125 66.40625 \nz\nM 31.78125 74.21875 \nQ 44.046875 74.21875 50.515625 64.515625 \nQ 56.984375 54.828125 56.984375 36.375 \nQ 56.984375 17.96875 50.515625 8.265625 \nQ 44.046875 -1.421875 31.78125 -1.421875 \nQ 19.53125 -1.421875 13.0625 8.265625 \nQ 6.59375 17.96875 6.59375 36.375 \nQ 6.59375 54.828125 13.0625 64.515625 \nQ 19.53125 74.21875 31.78125 74.21875 \nz\n\" id=\"DejaVuSans-48\"/>\n       </defs>\n       <use xlink:href=\"#DejaVuSans-48\"/>\n      </g>\n     </g>\n    </g>\n    <g id=\"xtick_2\">\n     <g id=\"line2d_2\">\n      <g>\n       <use style=\"stroke:#000000;stroke-width:0.8;\" x=\"105.033097\" xlink:href=\"#m19a8de855e\" y=\"224.64\"/>\n      </g>\n     </g>\n     <g id=\"text_2\">\n      <!-- 2 -->\n      <g transform=\"translate(101.851847 239.238437)scale(0.1 -0.1)\">\n       <defs>\n        <path d=\"M 19.1875 8.296875 \nL 53.609375 8.296875 \nL 53.609375 0 \nL 7.328125 0 \nL 7.328125 8.296875 \nQ 12.9375 14.109375 22.625 23.890625 \nQ 32.328125 33.6875 34.8125 36.53125 \nQ 39.546875 41.84375 41.421875 45.53125 \nQ 43.3125 49.21875 43.3125 52.78125 \nQ 43.3125 58.59375 39.234375 62.25 \nQ 35.15625 65.921875 28.609375 65.921875 \nQ 23.96875 65.921875 18.8125 64.3125 \nQ 13.671875 62.703125 7.8125 59.421875 \nL 7.8125 69.390625 \nQ 13.765625 71.78125 18.9375 73 \nQ 24.125 74.21875 28.421875 74.21875 \nQ 39.75 74.21875 46.484375 68.546875 \nQ 53.21875 62.890625 53.21875 53.421875 \nQ 53.21875 48.921875 51.53125 44.890625 \nQ 49.859375 40.875 45.40625 35.40625 \nQ 44.1875 33.984375 37.640625 27.21875 \nQ 31.109375 20.453125 19.1875 8.296875 \nz\n\" id=\"DejaVuSans-50\"/>\n       </defs>\n       <use xlink:href=\"#DejaVuSans-50\"/>\n      </g>\n     </g>\n    </g>\n    <g id=\"xtick_3\">\n     <g id=\"line2d_3\">\n      <g>\n       <use style=\"stroke:#000000;stroke-width:0.8;\" x=\"165.905824\" xlink:href=\"#m19a8de855e\" y=\"224.64\"/>\n      </g>\n     </g>\n     <g id=\"text_3\">\n      <!-- 4 -->\n      <g transform=\"translate(162.724574 239.238437)scale(0.1 -0.1)\">\n       <defs>\n        <path d=\"M 37.796875 64.3125 \nL 12.890625 25.390625 \nL 37.796875 25.390625 \nz\nM 35.203125 72.90625 \nL 47.609375 72.90625 \nL 47.609375 25.390625 \nL 58.015625 25.390625 \nL 58.015625 17.1875 \nL 47.609375 17.1875 \nL 47.609375 0 \nL 37.796875 0 \nL 37.796875 17.1875 \nL 4.890625 17.1875 \nL 4.890625 26.703125 \nz\n\" id=\"DejaVuSans-52\"/>\n       </defs>\n       <use xlink:href=\"#DejaVuSans-52\"/>\n      </g>\n     </g>\n    </g>\n    <g id=\"xtick_4\">\n     <g id=\"line2d_4\">\n      <g>\n       <use style=\"stroke:#000000;stroke-width:0.8;\" x=\"226.778551\" xlink:href=\"#m19a8de855e\" y=\"224.64\"/>\n      </g>\n     </g>\n     <g id=\"text_4\">\n      <!-- 6 -->\n      <g transform=\"translate(223.597301 239.238437)scale(0.1 -0.1)\">\n       <defs>\n        <path d=\"M 33.015625 40.375 \nQ 26.375 40.375 22.484375 35.828125 \nQ 18.609375 31.296875 18.609375 23.390625 \nQ 18.609375 15.53125 22.484375 10.953125 \nQ 26.375 6.390625 33.015625 6.390625 \nQ 39.65625 6.390625 43.53125 10.953125 \nQ 47.40625 15.53125 47.40625 23.390625 \nQ 47.40625 31.296875 43.53125 35.828125 \nQ 39.65625 40.375 33.015625 40.375 \nz\nM 52.59375 71.296875 \nL 52.59375 62.3125 \nQ 48.875 64.0625 45.09375 64.984375 \nQ 41.3125 65.921875 37.59375 65.921875 \nQ 27.828125 65.921875 22.671875 59.328125 \nQ 17.53125 52.734375 16.796875 39.40625 \nQ 19.671875 43.65625 24.015625 45.921875 \nQ 28.375 48.1875 33.59375 48.1875 \nQ 44.578125 48.1875 50.953125 41.515625 \nQ 57.328125 34.859375 57.328125 23.390625 \nQ 57.328125 12.15625 50.6875 5.359375 \nQ 44.046875 -1.421875 33.015625 -1.421875 \nQ 20.359375 -1.421875 13.671875 8.265625 \nQ 6.984375 17.96875 6.984375 36.375 \nQ 6.984375 53.65625 15.1875 63.9375 \nQ 23.390625 74.21875 37.203125 74.21875 \nQ 40.921875 74.21875 44.703125 73.484375 \nQ 48.484375 72.75 52.59375 71.296875 \nz\n\" id=\"DejaVuSans-54\"/>\n       </defs>\n       <use xlink:href=\"#DejaVuSans-54\"/>\n      </g>\n     </g>\n    </g>\n    <g id=\"xtick_5\">\n     <g id=\"line2d_5\">\n      <g>\n       <use style=\"stroke:#000000;stroke-width:0.8;\" x=\"287.651278\" xlink:href=\"#m19a8de855e\" y=\"224.64\"/>\n      </g>\n     </g>\n     <g id=\"text_5\">\n      <!-- 8 -->\n      <g transform=\"translate(284.470028 239.238437)scale(0.1 -0.1)\">\n       <defs>\n        <path d=\"M 31.78125 34.625 \nQ 24.75 34.625 20.71875 30.859375 \nQ 16.703125 27.09375 16.703125 20.515625 \nQ 16.703125 13.921875 20.71875 10.15625 \nQ 24.75 6.390625 31.78125 6.390625 \nQ 38.8125 6.390625 42.859375 10.171875 \nQ 46.921875 13.96875 46.921875 20.515625 \nQ 46.921875 27.09375 42.890625 30.859375 \nQ 38.875 34.625 31.78125 34.625 \nz\nM 21.921875 38.8125 \nQ 15.578125 40.375 12.03125 44.71875 \nQ 8.5 49.078125 8.5 55.328125 \nQ 8.5 64.0625 14.71875 69.140625 \nQ 20.953125 74.21875 31.78125 74.21875 \nQ 42.671875 74.21875 48.875 69.140625 \nQ 55.078125 64.0625 55.078125 55.328125 \nQ 55.078125 49.078125 51.53125 44.71875 \nQ 48 40.375 41.703125 38.8125 \nQ 48.828125 37.15625 52.796875 32.3125 \nQ 56.78125 27.484375 56.78125 20.515625 \nQ 56.78125 9.90625 50.3125 4.234375 \nQ 43.84375 -1.421875 31.78125 -1.421875 \nQ 19.734375 -1.421875 13.25 4.234375 \nQ 6.78125 9.90625 6.78125 20.515625 \nQ 6.78125 27.484375 10.78125 32.3125 \nQ 14.796875 37.15625 21.921875 38.8125 \nz\nM 18.3125 54.390625 \nQ 18.3125 48.734375 21.84375 45.5625 \nQ 25.390625 42.390625 31.78125 42.390625 \nQ 38.140625 42.390625 41.71875 45.5625 \nQ 45.3125 48.734375 45.3125 54.390625 \nQ 45.3125 60.0625 41.71875 63.234375 \nQ 38.140625 66.40625 31.78125 66.40625 \nQ 25.390625 66.40625 21.84375 63.234375 \nQ 18.3125 60.0625 18.3125 54.390625 \nz\n\" id=\"DejaVuSans-56\"/>\n       </defs>\n       <use xlink:href=\"#DejaVuSans-56\"/>\n      </g>\n     </g>\n    </g>\n    <g id=\"xtick_6\">\n     <g id=\"line2d_6\">\n      <g>\n       <use style=\"stroke:#000000;stroke-width:0.8;\" x=\"348.524006\" xlink:href=\"#m19a8de855e\" y=\"224.64\"/>\n      </g>\n     </g>\n     <g id=\"text_6\">\n      <!-- 10 -->\n      <g transform=\"translate(342.161506 239.238437)scale(0.1 -0.1)\">\n       <defs>\n        <path d=\"M 12.40625 8.296875 \nL 28.515625 8.296875 \nL 28.515625 63.921875 \nL 10.984375 60.40625 \nL 10.984375 69.390625 \nL 28.421875 72.90625 \nL 38.28125 72.90625 \nL 38.28125 8.296875 \nL 54.390625 8.296875 \nL 54.390625 0 \nL 12.40625 0 \nz\n\" id=\"DejaVuSans-49\"/>\n       </defs>\n       <use xlink:href=\"#DejaVuSans-49\"/>\n       <use x=\"63.623047\" xlink:href=\"#DejaVuSans-48\"/>\n      </g>\n     </g>\n    </g>\n   </g>\n   <g id=\"matplotlib.axis_2\">\n    <g id=\"ytick_1\">\n     <g id=\"line2d_7\">\n      <defs>\n       <path d=\"M 0 0 \nL -3.5 0 \n\" id=\"m6c74bb40e5\" style=\"stroke:#000000;stroke-width:0.8;\"/>\n      </defs>\n      <g>\n       <use style=\"stroke:#000000;stroke-width:0.8;\" x=\"28.942188\" xlink:href=\"#m6c74bb40e5\" y=\"180.646746\"/>\n      </g>\n     </g>\n     <g id=\"text_7\">\n      <!-- −2 -->\n      <g transform=\"translate(7.2 184.445965)scale(0.1 -0.1)\">\n       <defs>\n        <path d=\"M 10.59375 35.5 \nL 73.1875 35.5 \nL 73.1875 27.203125 \nL 10.59375 27.203125 \nz\n\" id=\"DejaVuSans-8722\"/>\n       </defs>\n       <use xlink:href=\"#DejaVuSans-8722\"/>\n       <use x=\"83.789062\" xlink:href=\"#DejaVuSans-50\"/>\n      </g>\n     </g>\n    </g>\n    <g id=\"ytick_2\">\n     <g id=\"line2d_8\">\n      <g>\n       <use style=\"stroke:#000000;stroke-width:0.8;\" x=\"28.942188\" xlink:href=\"#m6c74bb40e5\" y=\"133.914429\"/>\n      </g>\n     </g>\n     <g id=\"text_8\">\n      <!-- −1 -->\n      <g transform=\"translate(7.2 137.713648)scale(0.1 -0.1)\">\n       <use xlink:href=\"#DejaVuSans-8722\"/>\n       <use x=\"83.789062\" xlink:href=\"#DejaVuSans-49\"/>\n      </g>\n     </g>\n    </g>\n    <g id=\"ytick_3\">\n     <g id=\"line2d_9\">\n      <g>\n       <use style=\"stroke:#000000;stroke-width:0.8;\" x=\"28.942188\" xlink:href=\"#m6c74bb40e5\" y=\"87.182112\"/>\n      </g>\n     </g>\n     <g id=\"text_9\">\n      <!-- 0 -->\n      <g transform=\"translate(15.579688 90.981331)scale(0.1 -0.1)\">\n       <use xlink:href=\"#DejaVuSans-48\"/>\n      </g>\n     </g>\n    </g>\n    <g id=\"ytick_4\">\n     <g id=\"line2d_10\">\n      <g>\n       <use style=\"stroke:#000000;stroke-width:0.8;\" x=\"28.942188\" xlink:href=\"#m6c74bb40e5\" y=\"40.449795\"/>\n      </g>\n     </g>\n     <g id=\"text_10\">\n      <!-- 1 -->\n      <g transform=\"translate(15.579688 44.249014)scale(0.1 -0.1)\">\n       <use xlink:href=\"#DejaVuSans-49\"/>\n      </g>\n     </g>\n    </g>\n   </g>\n   <g id=\"line2d_11\">\n    <path clip-path=\"url(#p1d3146a0ff)\" d=\"M 44.160369 87.182112 \nL 53.969394 131.421001 \n\" style=\"fill:none;stroke:#1f77b4;stroke-linecap:square;stroke-width:1.5;\"/>\n   </g>\n   <g id=\"line2d_12\">\n    <path clip-path=\"url(#p1d3146a0ff)\" d=\"M 53.969394 131.421001 \nL 83.577188 120.591101 \n\" style=\"fill:none;stroke:#ff7f0e;stroke-linecap:square;stroke-width:1.5;\"/>\n   </g>\n   <g id=\"line2d_13\">\n    <path clip-path=\"url(#p1d3146a0ff)\" d=\"M 83.577188 120.591101 \nL 113.564023 128.593225 \n\" style=\"fill:none;stroke:#2ca02c;stroke-linecap:square;stroke-width:1.5;\"/>\n   </g>\n   <g id=\"line2d_14\">\n    <path clip-path=\"url(#p1d3146a0ff)\" d=\"M 44.160369 87.182112 \nL 48.013981 40.825882 \n\" style=\"fill:none;stroke:#d62728;stroke-linecap:square;stroke-width:1.5;\"/>\n   </g>\n   <g id=\"line2d_15\">\n    <path clip-path=\"url(#p1d3146a0ff)\" d=\"M 113.564023 128.593225 \nL 143.801826 123.263887 \n\" style=\"fill:none;stroke:#9467bd;stroke-linecap:square;stroke-width:1.5;\"/>\n   </g>\n   <g id=\"line2d_16\">\n    <path clip-path=\"url(#p1d3146a0ff)\" d=\"M 113.564023 128.593225 \nL 97.333534 168.1265 \n\" style=\"fill:none;stroke:#8c564b;stroke-linecap:square;stroke-width:1.5;\"/>\n   </g>\n   <g id=\"line2d_17\">\n    <path clip-path=\"url(#p1d3146a0ff)\" d=\"M 143.801826 123.263887 \nL 173.000328 110.071885 \n\" style=\"fill:none;stroke:#e377c2;stroke-linecap:square;stroke-width:1.5;\"/>\n   </g>\n   <g id=\"line2d_18\">\n    <path clip-path=\"url(#p1d3146a0ff)\" d=\"M 173.000328 110.071885 \nL 203.327501 106.116965 \n\" style=\"fill:none;stroke:#7f7f7f;stroke-linecap:square;stroke-width:1.5;\"/>\n   </g>\n   <g id=\"line2d_19\">\n    <path clip-path=\"url(#p1d3146a0ff)\" d=\"M 203.327501 106.116965 \nL 233.601695 101.299248 \n\" style=\"fill:none;stroke:#bcbd22;stroke-linecap:square;stroke-width:1.5;\"/>\n   </g>\n   <g id=\"line2d_20\">\n    <path clip-path=\"url(#p1d3146a0ff)\" d=\"M 233.601695 101.299248 \nL 259.861155 77.671227 \n\" style=\"fill:none;stroke:#17becf;stroke-linecap:square;stroke-width:1.5;\"/>\n   </g>\n   <g id=\"line2d_21\">\n    <path clip-path=\"url(#p1d3146a0ff)\" d=\"M 203.327501 106.116965 \nL 204.150362 59.401729 \n\" style=\"fill:none;stroke:#1f77b4;stroke-linecap:square;stroke-width:1.5;\"/>\n   </g>\n   <g id=\"line2d_22\">\n    <path clip-path=\"url(#p1d3146a0ff)\" d=\"M 259.861155 77.671227 \nL 285.585693 102.647991 \n\" style=\"fill:none;stroke:#ff7f0e;stroke-linecap:square;stroke-width:1.5;\"/>\n   </g>\n   <g id=\"line2d_23\">\n    <path clip-path=\"url(#p1d3146a0ff)\" d=\"M 53.969394 131.421001 \nL 58.533339 120.678579 \n\" style=\"fill:none;stroke:#2ca02c;stroke-linecap:square;stroke-width:1.5;\"/>\n   </g>\n   <g id=\"line2d_24\">\n    <path clip-path=\"url(#p1d3146a0ff)\" d=\"M 83.577188 120.591101 \nL 94.966401 131.788192 \n\" style=\"fill:none;stroke:#d62728;stroke-linecap:square;stroke-width:1.5;\"/>\n   </g>\n   <g id=\"line2d_25\">\n    <path clip-path=\"url(#p1d3146a0ff)\" d=\"M 97.333534 168.1265 \nL 99.347834 214.756364 \n\" style=\"fill:none;stroke:#9467bd;stroke-linecap:square;stroke-width:1.5;\"/>\n   </g>\n   <g id=\"line2d_26\">\n    <path clip-path=\"url(#p1d3146a0ff)\" d=\"M 285.585693 102.647991 \nL 304.841723 66.457298 \n\" style=\"fill:none;stroke:#8c564b;stroke-linecap:square;stroke-width:1.5;\"/>\n   </g>\n   <g id=\"line2d_27\">\n    <path clip-path=\"url(#p1d3146a0ff)\" d=\"M 304.841723 66.457298 \nL 333.921438 80.254006 \n\" style=\"fill:none;stroke:#e377c2;stroke-linecap:square;stroke-width:1.5;\"/>\n   </g>\n   <g id=\"line2d_28\">\n    <path clip-path=\"url(#p1d3146a0ff)\" d=\"M 333.921438 80.254006 \nL 348.524006 87.182112 \n\" style=\"fill:none;stroke:#7f7f7f;stroke-linecap:square;stroke-width:1.5;\"/>\n   </g>\n   <g id=\"patch_5\">\n    <path d=\"M 28.942188 224.64 \nL 28.942188 7.2 \n\" style=\"fill:none;stroke:#000000;stroke-linecap:square;stroke-linejoin:miter;stroke-width:0.8;\"/>\n   </g>\n   <g id=\"patch_6\">\n    <path d=\"M 363.742188 224.64 \nL 363.742188 7.2 \n\" style=\"fill:none;stroke:#000000;stroke-linecap:square;stroke-linejoin:miter;stroke-width:0.8;\"/>\n   </g>\n   <g id=\"patch_7\">\n    <path d=\"M 28.942188 224.64 \nL 363.742188 224.64 \n\" style=\"fill:none;stroke:#000000;stroke-linecap:square;stroke-linejoin:miter;stroke-width:0.8;\"/>\n   </g>\n   <g id=\"patch_8\">\n    <path d=\"M 28.942188 7.2 \nL 363.742188 7.2 \n\" style=\"fill:none;stroke:#000000;stroke-linecap:square;stroke-linejoin:miter;stroke-width:0.8;\"/>\n   </g>\n  </g>\n </g>\n <defs>\n  <clipPath id=\"p1d3146a0ff\">\n   <rect height=\"217.44\" width=\"334.8\" x=\"28.942188\" y=\"7.2\"/>\n  </clipPath>\n </defs>\n</svg>\n",
      "image/png": "[encoded data removed]"
     },
     "metadata": {
      "needs_background": "light"
     }
    }
   ],
   "source": [
    "# ********************************************************************************* #\n",
    "# GoalBiasRRT\n",
    "# ********************************************************************************* #\n",
    "\n",
    "obstacles=[[(3.5,4.5,4.5,3.5),(0.5,0.5,1.5,1.5)],\n",
    "           [(6.5,7.5,7.5,6.5),(-1.5,-1.5,-0.5,-0.5)]]\n",
    "xlimits=[-1,11]\n",
    "ylimits=[-3,3]\n",
    "\n",
    "start=[0, 0]\n",
    "\n",
    "goal=[10, 0]\n",
    "\n",
    "bias=0.05\n",
    "\n",
    "tree={'[0, 0]':[]}\n",
    "\n",
    "keys=[[0,0]]\n",
    "\n",
    "step=1\n",
    "\n",
    "eps=0.25\n",
    "\n",
    "for obs in obstacles:\n",
    "    plt.fill(*obs,'k',alpha=1)\n",
    "\n",
    "for iterations in range(5000):\n",
    "    point=randompoint()\n",
    "    node=nearestnode(point)\n",
    "    # print(node[0])\n",
    "    if nextnode(node,point)==1:\n",
    "        continue\n",
    "    newnode=nextnode(node,point)\n",
    "    # print(newnode)\n",
    "    # plt.plot(np.transpose([node,[*newnode]]))\n",
    "    plt.plot((node[0],newnode[0]),(node[1],newnode[1]))\n",
    "    tree[str(node)].append(str([*newnode]))\n",
    "    tree[str([*newnode])]=[]\n",
    "    keys.append([*newnode])\n",
    "    if (np.sqrt((newnode[0]-goal[0])**2+(newnode[1]-goal[1])**2))<=eps:\n",
    "        print(\"found\")\n",
    "        break\n",
    "\n",
    "# print(tree)\n",
    "\n"
   ]
  },
  {
   "cell_type": "code",
   "execution_count": 199,
   "metadata": {},
   "outputs": [],
   "source": [
    "for i in tree:\n",
    "    tree[str(i)]=[tree[str(i)]]\n",
    "    tree[str(i)].append([1]*len(*tree[str(i)]))\n",
    "    tree[str(i)].append(1)"
   ]
  },
  {
   "cell_type": "code",
   "execution_count": 190,
   "metadata": {},
   "outputs": [],
   "source": [
    "def pathcost(nodes):\n",
    "    '''\n",
    "    returns the path cost through the input nodes\n",
    "    '''\n",
    "    nodes.reverse()\n",
    "    # print(nodes)\n",
    "    length=0\n",
    "    for i in range(len(nodes)-1):\n",
    "        index=graph[nodes[i]][0].index(nodes[i+1])\n",
    "        length=length+(graph[nodes[i]][1][index])\n",
    "        pass\n",
    "    return length"
   ]
  },
  {
   "cell_type": "code",
   "execution_count": 200,
   "metadata": {},
   "outputs": [],
   "source": [
    "graph=tree"
   ]
  },
  {
   "cell_type": "code",
   "execution_count": 202,
   "metadata": {
    "tags": []
   },
   "outputs": [
    {
     "output_type": "stream",
     "name": "stdout",
     "text": [
      "[[1, '[0.12661208776058278, 0.9919523069346159]', '[0, 0]'], [1, '[0.32227978603533797, -0.9466444630974276]', '[0, 0]']]\n[[1, '[0.32227978603533797, -0.9466444630974276]', '[0, 0]']]\n[[2, '[0.47223018099063907, -0.7167730747560759]', '[0.32227978603533797, -0.9466444630974276]', '[0, 0]'], [2, '[1.295056767367993, -0.7149011900789264]', '[0.32227978603533797, -0.9466444630974276]', '[0, 0]']]\n[[2, '[1.295056767367993, -0.7149011900789264]', '[0.32227978603533797, -0.9466444630974276]', '[0, 0]']]\n[[3, '[1.669254323858195, -0.9545017894161418]', '[1.295056767367993, -0.7149011900789264]', '[0.32227978603533797, -0.9466444630974276]', '[0, 0]'], [3, '[2.2802872973950192, -0.8861343723265995]', '[1.295056767367993, -0.7149011900789264]', '[0.32227978603533797, -0.9466444630974276]', '[0, 0]']]\n[[3, '[2.2802872973950192, -0.8861343723265995]', '[1.295056767367993, -0.7149011900789264]', '[0.32227978603533797, -0.9466444630974276]', '[0, 0]']]\n[[4, '[1.7470275112251334, -1.7320859078497923]', '[2.2802872973950192, -0.8861343723265995]', '[1.295056767367993, -0.7149011900789264]', '[0.32227978603533797, -0.9466444630974276]', '[0, 0]'], [4, '[3.2737634954423975, -0.7720947129386201]', '[2.2802872973950192, -0.8861343723265995]', '[1.295056767367993, -0.7149011900789264]', '[0.32227978603533797, -0.9466444630974276]', '[0, 0]']]\n[[4, '[3.2737634954423975, -0.7720947129386201]', '[2.2802872973950192, -0.8861343723265995]', '[1.295056767367993, -0.7149011900789264]', '[0.32227978603533797, -0.9466444630974276]', '[0, 0]'], [5, '[1.81320821716738, -2.729893561739552]', '[1.7470275112251334, -1.7320859078497923]', '[2.2802872973950192, -0.8861343723265995]', '[1.295056767367993, -0.7149011900789264]', '[0.32227978603533797, -0.9466444630974276]', '[0, 0]']]\n[[5, '[1.81320821716738, -2.729893561739552]', '[1.7470275112251334, -1.7320859078497923]', '[2.2802872973950192, -0.8861343723265995]', '[1.295056767367993, -0.7149011900789264]', '[0.32227978603533797, -0.9466444630974276]', '[0, 0]'], [5, '[4.233093012275018, -0.48980606964298384]', '[3.2737634954423975, -0.7720947129386201]', '[2.2802872973950192, -0.8861343723265995]', '[1.295056767367993, -0.7149011900789264]', '[0.32227978603533797, -0.9466444630974276]', '[0, 0]']]\n[[5, '[4.233093012275018, -0.48980606964298384]', '[3.2737634954423975, -0.7720947129386201]', '[2.2802872973950192, -0.8861343723265995]', '[1.295056767367993, -0.7149011900789264]', '[0.32227978603533797, -0.9466444630974276]', '[0, 0]']]\n[[6, '[5.229505523979393, -0.4051768399467465]', '[4.233093012275018, -0.48980606964298384]', '[3.2737634954423975, -0.7720947129386201]', '[2.2802872973950192, -0.8861343723265995]', '[1.295056767367993, -0.7149011900789264]', '[0.32227978603533797, -0.9466444630974276]', '[0, 0]']]\n[[7, '[5.256540994522968, 0.594457634915184]', '[5.229505523979393, -0.4051768399467465]', '[4.233093012275018, -0.48980606964298384]', '[3.2737634954423975, -0.7720947129386201]', '[2.2802872973950192, -0.8861343723265995]', '[1.295056767367993, -0.7149011900789264]', '[0.32227978603533797, -0.9466444630974276]', '[0, 0]'], [7, '[6.22417737473322, -0.30208508800724143]', '[5.229505523979393, -0.4051768399467465]', '[4.233093012275018, -0.48980606964298384]', '[3.2737634954423975, -0.7720947129386201]', '[2.2802872973950192, -0.8861343723265995]', '[1.295056767367993, -0.7149011900789264]', '[0.32227978603533797, -0.9466444630974276]', '[0, 0]']]\n[[7, '[6.22417737473322, -0.30208508800724143]', '[5.229505523979393, -0.4051768399467465]', '[4.233093012275018, -0.48980606964298384]', '[3.2737634954423975, -0.7720947129386201]', '[2.2802872973950192, -0.8861343723265995]', '[1.295056767367993, -0.7149011900789264]', '[0.32227978603533797, -0.9466444630974276]', '[0, 0]']]\n[[8, '[7.086943362603743, 0.20351836349778885]', '[6.22417737473322, -0.30208508800724143]', '[5.229505523979393, -0.4051768399467465]', '[4.233093012275018, -0.48980606964298384]', '[3.2737634954423975, -0.7720947129386201]', '[2.2802872973950192, -0.8861343723265995]', '[1.295056767367993, -0.7149011900789264]', '[0.32227978603533797, -0.9466444630974276]', '[0, 0]']]\n[[9, '[7.932134303931501, -0.33094610931354707]', '[7.086943362603743, 0.20351836349778885]', '[6.22417737473322, -0.30208508800724143]', '[5.229505523979393, -0.4051768399467465]', '[4.233093012275018, -0.48980606964298384]', '[3.2737634954423975, -0.7720947129386201]', '[2.2802872973950192, -0.8861343723265995]', '[1.295056767367993, -0.7149011900789264]', '[0.32227978603533797, -0.9466444630974276]', '[0, 0]']]\n[[10, '[8.564799559559322, 0.44347927400067744]', '[7.932134303931501, -0.33094610931354707]', '[7.086943362603743, 0.20351836349778885]', '[6.22417737473322, -0.30208508800724143]', '[5.229505523979393, -0.4051768399467465]', '[4.233093012275018, -0.48980606964298384]', '[3.2737634954423975, -0.7720947129386201]', '[2.2802872973950192, -0.8861343723265995]', '[1.295056767367993, -0.7149011900789264]', '[0.32227978603533797, -0.9466444630974276]', '[0, 0]']]\n[[11, '[9.520226263775088, 0.14825086603254223]', '[8.564799559559322, 0.44347927400067744]', '[7.932134303931501, -0.33094610931354707]', '[7.086943362603743, 0.20351836349778885]', '[6.22417737473322, -0.30208508800724143]', '[5.229505523979393, -0.4051768399467465]', '[4.233093012275018, -0.48980606964298384]', '[3.2737634954423975, -0.7720947129386201]', '[2.2802872973950192, -0.8861343723265995]', '[1.295056767367993, -0.7149011900789264]', '[0.32227978603533797, -0.9466444630974276]', '[0, 0]']]\n[[12, '[10, 0]', '[9.520226263775088, 0.14825086603254223]', '[8.564799559559322, 0.44347927400067744]', '[7.932134303931501, -0.33094610931354707]', '[7.086943362603743, 0.20351836349778885]', '[6.22417737473322, -0.30208508800724143]', '[5.229505523979393, -0.4051768399467465]', '[4.233093012275018, -0.48980606964298384]', '[3.2737634954423975, -0.7720947129386201]', '[2.2802872973950192, -0.8861343723265995]', '[1.295056767367993, -0.7149011900789264]', '[0.32227978603533797, -0.9466444630974276]', '[0, 0]']]\n\nPath for Dijkstra's is: ['[10, 0]', '[9.520226263775088, 0.14825086603254223]', '[8.564799559559322, 0.44347927400067744]', '[7.932134303931501, -0.33094610931354707]', '[7.086943362603743, 0.20351836349778885]', '[6.22417737473322, -0.30208508800724143]', '[5.229505523979393, -0.4051768399467465]', '[4.233093012275018, -0.48980606964298384]', '[3.2737634954423975, -0.7720947129386201]', '[2.2802872973950192, -0.8861343723265995]', '[1.295056767367993, -0.7149011900789264]', '[0.32227978603533797, -0.9466444630974276]', '[0, 0]'] \nThe cost is: 12 \nThe time taken is: 0.0061261653900146484 \nIterations: 18\n"
     ]
    }
   ],
   "source": [
    "# ********************************************************************************* #\n",
    "# A* and Dijkstra's algorithm\n",
    "# ********************************************************************************* #\n",
    "\n",
    "algo=int(input(\"\\nWhich algorithm do you want to implement: a*(1) or dijkstra's(2)?\"))\n",
    "\n",
    "# starts with the start node\n",
    "stack=[[0,str(start)]]\n",
    "C=[]\n",
    "# update\n",
    "final=str(start)\n",
    "\n",
    "t1=time.time()\n",
    "\n",
    "iterations=0\n",
    "\n",
    "while final!=str([*newnode]) and len(C)<len(graph):\n",
    "\n",
    "    # add child nodes\n",
    "    newstack=[]\n",
    "    for child,cost in np.transpose([graph[stack[0][1]][0],graph[stack[0][1]][1]]):\n",
    "        path=pathcost([child,*stack[0][1:]])\n",
    "        if algo==1:\n",
    "            newelement=[path+int(graph[child][2]),child,*stack[0][1:]]\n",
    "        else:\n",
    "            newelement=[path,child,*stack[0][1:]]\n",
    "        newstack.append(newelement)\n",
    "    \n",
    "    # put first node in C list\n",
    "    if stack[0][1] not in C:\n",
    "        C.append(stack[0][1])\n",
    "        # print(C)\n",
    "\n",
    "    # delete first node in stack\n",
    "    stack.pop(0)\n",
    "\n",
    "    # update the newstack with remaining stack elements\n",
    "    for x in range(len(stack)):\n",
    "        newstack.append(stack[x])\n",
    "    stack=newstack\n",
    "\n",
    "    # sort\n",
    "    stack.sort()\n",
    "    print(stack)\n",
    "    final=stack[0][1]\n",
    "\n",
    "    iterations+=1\n",
    "\n",
    "    pass\n",
    "\n",
    "t2=time.time()-t1\n",
    "if final==str([*newnode]):\n",
    "    if algo==1:\n",
    "        print(\"\\nPath for A* is:\",stack[0][1:],\"\\nThe cost is:\",stack[0][0],\"\\nThe time taken is:\",t2,\"\\nIterations:\",iterations)\n",
    "    else:\n",
    "        print(\"\\nPath for Dijkstra's is:\",stack[0][1:],\"\\nThe cost is:\",stack[0][0],\"\\nThe time taken is:\",t2,\"\\nIterations:\",iterations)\n",
    "else:\n",
    "    print(\"\\nPath to Goal not found!!!\")\n"
   ]
  },
  {
   "cell_type": "code",
   "execution_count": null,
   "metadata": {},
   "outputs": [],
   "source": []
  }
 ]
}