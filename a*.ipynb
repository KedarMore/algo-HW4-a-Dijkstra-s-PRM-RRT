{
 "cells": [
  {
   "cell_type": "code",
   "execution_count": 1,
   "metadata": {},
   "outputs": [],
   "source": [
    "import numpy as np\n",
    "import matplotlib.pyplot as plt"
   ]
  },
  {
   "source": [
    "<img src=\"a*example.png\" height=300px>"
   ],
   "cell_type": "markdown",
   "metadata": {}
  },
  {
   "cell_type": "code",
   "execution_count": 220,
   "metadata": {},
   "outputs": [],
   "source": [
    "# initialize graph\n",
    "\n",
    "#.................child nodes....edge....heuristics\n",
    "graph={\"vstart\" : [[\"A\",\"B\",\"C\"],[1,1,1],0],\n",
    "       \"A\" : [[\"D\",\"E\",\"F\"],[1,1,3],3],\n",
    "       \"B\" : [[\"G\",\"H\",\"I\"],[4,1,2],2],\n",
    "       \"C\" : [[\"J\",\"K\",\"L\"],[1,1,1],3],\n",
    "       \"D\" : [[],[],3],\n",
    "       \"E\" : [[\"vgoal\"],[3],1],\n",
    "       \"F\" : [[],[],3],\n",
    "       \"G\" : [[\"vgoal\"],[3],2],\n",
    "       \"H\" : [[],[],1],\n",
    "       \"I\" : [[\"vgoal\"],[3],2],\n",
    "       \"J\" : [[],[],3],\n",
    "       \"K\" : [[\"vgoal\"],[2],2],\n",
    "       \"L\" : [[],[],3],\n",
    "       \"vgoal\" : [[],[],0]}"
   ]
  },
  {
   "cell_type": "code",
   "execution_count": 232,
   "metadata": {},
   "outputs": [],
   "source": [
    "def pathcost(nodes):\n",
    "    '''\n",
    "    returns the path cost through the input nodes\n",
    "    '''\n",
    "    nodes.reverse()\n",
    "    # print(nodes)\n",
    "    length=0\n",
    "    for i in range(len(nodes)-1):\n",
    "        index=graph[nodes[i]][0].index(nodes[i+1])\n",
    "        length=length+(graph[nodes[i]][1][index])\n",
    "        pass\n",
    "    return length"
   ]
  },
  {
   "cell_type": "code",
   "execution_count": 233,
   "metadata": {
    "tags": []
   },
   "outputs": [
    {
     "output_type": "stream",
     "name": "stdout",
     "text": [
      "[[3, 'B', 'vstart'], [4, 'A', 'vstart'], [4, 'C', 'vstart']]\n[[3, 'H', 'B', 'vstart'], [4, 'A', 'vstart'], [4, 'C', 'vstart'], [5, 'I', 'B', 'vstart'], [7, 'G', 'B', 'vstart']]\n[[4, 'A', 'vstart'], [4, 'C', 'vstart'], [5, 'I', 'B', 'vstart'], [7, 'G', 'B', 'vstart']]\n[[3, 'E', 'A', 'vstart'], [4, 'C', 'vstart'], [5, 'D', 'A', 'vstart'], [5, 'I', 'B', 'vstart'], [7, 'F', 'A', 'vstart'], [7, 'G', 'B', 'vstart']]\n[[4, 'C', 'vstart'], [5, 'D', 'A', 'vstart'], [5, 'I', 'B', 'vstart'], [5, 'vgoal', 'E', 'A', 'vstart'], [7, 'F', 'A', 'vstart'], [7, 'G', 'B', 'vstart']]\n[[4, 'K', 'C', 'vstart'], [5, 'D', 'A', 'vstart'], [5, 'I', 'B', 'vstart'], [5, 'J', 'C', 'vstart'], [5, 'L', 'C', 'vstart'], [5, 'vgoal', 'E', 'A', 'vstart'], [7, 'F', 'A', 'vstart'], [7, 'G', 'B', 'vstart']]\n[[4, 'vgoal', 'K', 'C', 'vstart'], [5, 'D', 'A', 'vstart'], [5, 'I', 'B', 'vstart'], [5, 'J', 'C', 'vstart'], [5, 'L', 'C', 'vstart'], [5, 'vgoal', 'E', 'A', 'vstart'], [7, 'F', 'A', 'vstart'], [7, 'G', 'B', 'vstart']]\n"
     ]
    }
   ],
   "source": [
    "# ********************************************************************************* #\n",
    "# A* algorithm\n",
    "# ********************************************************************************* #\n",
    "\n",
    "# starts with the start node\n",
    "stack=[[0,'vstart']]\n",
    "\n",
    "# update\n",
    "final='vstart'\n",
    "while final!='vgoal':\n",
    "\n",
    "    # add child nodes\n",
    "    newstack=[]\n",
    "    for child,cost in np.transpose([graph[stack[0][1]][0],graph[stack[0][1]][1]]):\n",
    "        path=pathcost([child,*stack[0][1:]])\n",
    "        newelement=[path+int(graph[child][2]),child,*stack[0][1:]]\n",
    "        newstack.append(newelement)\n",
    "    \n",
    "    # delete first node in stack\n",
    "    stack.pop(0)\n",
    "\n",
    "    # update the newstack with remaining stack elements\n",
    "    for x in range(len(stack)):\n",
    "        newstack.append(stack[x])\n",
    "    stack=newstack\n",
    "\n",
    "    # sort\n",
    "    stack.sort()\n",
    "    print(stack)\n",
    "    final=stack[0][1]\n",
    "    pass"
   ]
  },
  {
   "cell_type": "code",
   "execution_count": null,
   "metadata": {},
   "outputs": [],
   "source": []
  }
 ],
 "metadata": {
  "kernelspec": {
   "display_name": "Python 3.6.9 64-bit",
   "language": "python",
   "name": "python36964bit470afb7db70e4afda6adc759ef95f8be"
  },
  "language_info": {
   "codemirror_mode": {
    "name": "ipython",
    "version": 3
   },
   "file_extension": ".py",
   "mimetype": "text/x-python",
   "name": "python",
   "nbconvert_exporter": "python",
   "pygments_lexer": "ipython3",
   "version": "3.6.9-final"
  }
 },
 "nbformat": 4,
 "nbformat_minor": 4
}