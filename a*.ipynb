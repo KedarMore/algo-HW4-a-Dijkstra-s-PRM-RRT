{
 "cells": [
  {
   "cell_type": "code",
   "execution_count": 2,
   "metadata": {},
   "outputs": [],
   "source": [
    "import numpy as np\n",
    "import matplotlib.pyplot as plt"
   ]
  },
  {
   "source": [
    "<img src=\"a*example.png\" height=300px>"
   ],
   "cell_type": "markdown",
   "metadata": {}
  },
  {
   "cell_type": "code",
   "execution_count": 72,
   "metadata": {},
   "outputs": [],
   "source": [
    "# initialize graph\n",
    "\n",
    "#.................child nodes....edge....heuristics\n",
    "graph={\"vstart\" : [[\"A\",\"B\",\"C\"],[1,1,1],0],\n",
    "       \"A\" : [[\"D\",\"E\",\"F\"],[1,1,3],3],\n",
    "       \"B\" : [[\"G\",\"H\",\"I\"],[4,1,2],2],\n",
    "       \"C\" : [[\"J\",\"K\",\"L\"],[1,1,1],3],\n",
    "       \"D\" : [[],[],3],\n",
    "       \"E\" : [[\"vgoal\"],[3],1],\n",
    "       \"F\" : [[],[],3],\n",
    "       \"G\" : [[\"vgoal\"],[3],2],\n",
    "       \"H\" : [[],[],1],\n",
    "       \"I\" : [[\"vgoal\"],[3],2],\n",
    "       \"J\" : [[],[],3],\n",
    "       \"K\" : [[\"vgoal\"],[3],2],\n",
    "       \"L\" : [[],[],3],\n",
    "       \"vgoal\" : [[],[],5]}"
   ]
  },
  {
   "cell_type": "code",
   "execution_count": 145,
   "metadata": {
    "tags": []
   },
   "outputs": [
    {
     "output_type": "stream",
     "name": "stdout",
     "text": [
      "[['A' '1']\n ['B' '1']\n ['C' '1']]\n[['D' '5']\n ['E' '5']\n ['F' '7']\n ['G' '7']\n ['H' '4']\n ['I' '5']\n ['J' '5']\n ['K' '5']\n ['L' '5']]\n[['vgoal' '9']\n ['vgoal' '12']\n ['vgoal' '10']\n ['vgoal' '10']]\n[]\n[]\n[]\n[]\n[]\n[]\n[]\n"
     ]
    }
   ],
   "source": [
    "# a* algorithm\n",
    "\n",
    "# starts with the start node\n",
    "stack=np.array([['vstart',0]])\n",
    "\n",
    "# update\n",
    "# newstack=stack\n",
    "for num in range(10):\n",
    "    newstack=np.array([['','']])\n",
    "    for i in stack: # existing stack\n",
    "        for child,cost in np.transpose([graph[i[0]][0],graph[i[0]][1]]): # children nodes\n",
    "            newelement=np.array([[child,int(i[1])+int(cost)+graph[i[0]][2]]])\n",
    "            newstack=np.vstack((newstack,newelement))\n",
    "    newstack=np.delete(newstack,0,axis=0)\n",
    "    stack=newstack\n",
    "    print(stack)\n",
    "    pass"
   ]
  },
  {
   "cell_type": "code",
   "execution_count": 95,
   "metadata": {},
   "outputs": [
    {
     "output_type": "stream",
     "name": "stdout",
     "text": [
      "1\n4\n2\n5\n3\n6\n"
     ]
    }
   ],
   "source": [
    "a=[1,2,3]\n",
    "b=[4,5,6]\n",
    "for i,j in np.transpose([a,b]):\n",
    "    print(i)\n",
    "    print(j)"
   ]
  },
  {
   "cell_type": "code",
   "execution_count": null,
   "metadata": {},
   "outputs": [],
   "source": []
  }
 ],
 "metadata": {
  "kernelspec": {
   "display_name": "Python 3.6.9 64-bit",
   "language": "python",
   "name": "python36964bit470afb7db70e4afda6adc759ef95f8be"
  },
  "language_info": {
   "codemirror_mode": {
    "name": "ipython",
    "version": 3
   },
   "file_extension": ".py",
   "mimetype": "text/x-python",
   "name": "python",
   "nbconvert_exporter": "python",
   "pygments_lexer": "ipython3",
   "version": "3.6.9-final"
  }
 },
 "nbformat": 4,
 "nbformat_minor": 4
}