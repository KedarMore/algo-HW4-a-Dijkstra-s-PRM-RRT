{
 "cells": [
  {
   "cell_type": "code",
   "execution_count": 1,
   "metadata": {},
   "outputs": [],
   "source": [
    "import numpy as np\n",
    "import matplotlib.pyplot as plt\n",
    "import time"
   ]
  },
  {
   "source": [
    "<img src=\"a*example.png\" height=300px>"
   ],
   "cell_type": "markdown",
   "metadata": {}
  },
  {
   "cell_type": "code",
   "execution_count": 2,
   "metadata": {},
   "outputs": [],
   "source": [
    "# initialize graph\n",
    "\n",
    "# directed\n",
    "#.................child nodes....edge....heuristics\n",
    "graph={\"vstart\" : [[\"A\",\"B\",\"C\"],[1,1,1],0],\n",
    "       \"A\" : [[\"D\",\"E\",\"F\"],[1,1,3],3],\n",
    "       \"B\" : [[\"G\",\"H\",\"I\"],[4,1,2],2],\n",
    "       \"C\" : [[\"J\",\"K\",\"L\"],[1,1,1],3],\n",
    "       \"D\" : [[],[],3],\n",
    "       \"E\" : [[\"vgoal\"],[3],1],\n",
    "       \"F\" : [[],[],3],\n",
    "       \"G\" : [[\"vgoal\"],[3],2],\n",
    "       \"H\" : [[],[],1],\n",
    "       \"I\" : [[\"vgoal\"],[3],2],\n",
    "       \"J\" : [[],[],3],\n",
    "       \"K\" : [[\"vgoal\"],[2],2],\n",
    "       \"L\" : [[],[],3],\n",
    "       \"vgoal\" : [[],[],0]}\n",
    "\n",
    "# undirected\n",
    "#.................child nodes....edge....heuristics\n",
    "# graph={\"vstart\" : [[\"A\",\"B\",\"C\"],[1,1,1],0],\n",
    "#        \"A\" : [[\"D\",\"E\",\"F\",\"vstart\"],[1,1,3,1],3],\n",
    "#        \"B\" : [[\"G\",\"H\",\"I\",\"vstart\"],[4,1,2,1],2],\n",
    "#        \"C\" : [[\"J\",\"K\",\"L\",\"vstart\"],[1,1,1,1],3],\n",
    "#        \"D\" : [[\"A\"],[1],3],\n",
    "#        \"E\" : [[\"vgoal\",\"A\"],[3,1],1],\n",
    "#        \"F\" : [[\"A\"],[3],3],\n",
    "#        \"G\" : [[\"vgoal\",\"B\"],[3,4],2],\n",
    "#        \"H\" : [[\"B\"],[1],1],\n",
    "#        \"I\" : [[\"vgoal\",\"B\"],[3,2],2],\n",
    "#        \"J\" : [[\"C\"],[1],3],\n",
    "#        \"K\" : [[\"vgoal\",\"C\"],[2,1],2],\n",
    "#        \"L\" : [[\"C\"],[1],3],\n",
    "#        \"vgoal\" : [[\"E\",\"G\",\"I\",\"K\"],[3,3,3,2],0]}"
   ]
  },
  {
   "cell_type": "code",
   "execution_count": 3,
   "metadata": {},
   "outputs": [],
   "source": [
    "def pathcost(nodes):\n",
    "    '''\n",
    "    returns the path cost through the input nodes\n",
    "    '''\n",
    "    nodes.reverse()\n",
    "    # print(nodes)\n",
    "    length=0\n",
    "    for i in range(len(nodes)-1):\n",
    "        index=graph[nodes[i]][0].index(nodes[i+1])\n",
    "        length=length+(graph[nodes[i]][1][index])\n",
    "        pass\n",
    "    return length"
   ]
  },
  {
   "cell_type": "code",
   "execution_count": 4,
   "metadata": {
    "tags": []
   },
   "outputs": [
    {
     "output_type": "stream",
     "name": "stdout",
     "text": [
      "[[3, 'B', 'vstart'], [4, 'A', 'vstart'], [4, 'C', 'vstart']]\n[[3, 'H', 'B', 'vstart'], [4, 'A', 'vstart'], [4, 'C', 'vstart'], [5, 'I', 'B', 'vstart'], [7, 'G', 'B', 'vstart']]\n[[4, 'A', 'vstart'], [4, 'C', 'vstart'], [5, 'I', 'B', 'vstart'], [7, 'G', 'B', 'vstart']]\n[[3, 'E', 'A', 'vstart'], [4, 'C', 'vstart'], [5, 'D', 'A', 'vstart'], [5, 'I', 'B', 'vstart'], [7, 'F', 'A', 'vstart'], [7, 'G', 'B', 'vstart']]\n[[4, 'C', 'vstart'], [5, 'D', 'A', 'vstart'], [5, 'I', 'B', 'vstart'], [5, 'vgoal', 'E', 'A', 'vstart'], [7, 'F', 'A', 'vstart'], [7, 'G', 'B', 'vstart']]\n[[4, 'K', 'C', 'vstart'], [5, 'D', 'A', 'vstart'], [5, 'I', 'B', 'vstart'], [5, 'J', 'C', 'vstart'], [5, 'L', 'C', 'vstart'], [5, 'vgoal', 'E', 'A', 'vstart'], [7, 'F', 'A', 'vstart'], [7, 'G', 'B', 'vstart']]\n[[4, 'vgoal', 'K', 'C', 'vstart'], [5, 'D', 'A', 'vstart'], [5, 'I', 'B', 'vstart'], [5, 'J', 'C', 'vstart'], [5, 'L', 'C', 'vstart'], [5, 'vgoal', 'E', 'A', 'vstart'], [7, 'F', 'A', 'vstart'], [7, 'G', 'B', 'vstart']]\n\nPath for A* is: ['vgoal', 'K', 'C', 'vstart'] \nThe cost is: 4 \nThe time taken is: 0.0019102096557617188 \nIterations: 7\n"
     ]
    }
   ],
   "source": [
    "# ********************************************************************************* #\n",
    "# A* and Dijkstra's algorithm\n",
    "# ********************************************************************************* #\n",
    "\n",
    "algo=int(input(\"\\nWhich algorithm do you want to implement: a*(1) or dijkstra's(2)?\"))\n",
    "\n",
    "# starts with the start node\n",
    "stack=[[0,'vstart']]\n",
    "C=[]\n",
    "# update\n",
    "final='vstart'\n",
    "\n",
    "t1=time.time()\n",
    "\n",
    "iterations=0\n",
    "\n",
    "while final!='vgoal' and len(C)<len(graph):\n",
    "\n",
    "    # add child nodes\n",
    "    newstack=[]\n",
    "    for child,cost in np.transpose([graph[stack[0][1]][0],graph[stack[0][1]][1]]):\n",
    "        path=pathcost([child,*stack[0][1:]])\n",
    "        if algo==1:\n",
    "            newelement=[path+int(graph[child][2]),child,*stack[0][1:]]\n",
    "        else:\n",
    "            newelement=[path,child,*stack[0][1:]]\n",
    "        newstack.append(newelement)\n",
    "    \n",
    "    # put first node in C list\n",
    "    if stack[0][1] not in C:\n",
    "        C.append(stack[0][1])\n",
    "        # print(C)\n",
    "\n",
    "    # delete first node in stack\n",
    "    stack.pop(0)\n",
    "\n",
    "    # update the newstack with remaining stack elements\n",
    "    for x in range(len(stack)):\n",
    "        newstack.append(stack[x])\n",
    "    stack=newstack\n",
    "\n",
    "    # sort\n",
    "    stack.sort()\n",
    "    print(stack)\n",
    "    final=stack[0][1]\n",
    "\n",
    "    iterations+=1\n",
    "\n",
    "    pass\n",
    "\n",
    "t2=time.time()-t1\n",
    "if final=='vgoal':\n",
    "    if algo==1:\n",
    "        print(\"\\nPath for A* is:\",stack[0][1:],\"\\nThe cost is:\",stack[0][0],\"\\nThe time taken is:\",t2,\"\\nIterations:\",iterations)\n",
    "    else:\n",
    "        print(\"\\nPath for Dijkstra's is:\",stack[0][1:],\"\\nThe cost is:\",stack[0][0],\"\\nThe time taken is:\",t2,\"\\nIterations:\",iterations)\n",
    "else:\n",
    "    print(\"\\nPath to Goal not found!!!\")\n"
   ]
  },
  {
   "source": [
    "Path for A* is: ['vgoal', 'K', 'C', 'vstart']\n",
    "\n",
    "The cost is: 4 \n",
    "\n",
    "The time taken is: 0.0017769336700439453 \n",
    "\n",
    "Iterations: 7\n",
    "\n",
    "***\n",
    "\n",
    "Path for Dijkstra's is: ['vgoal', 'K', 'C', 'vstart'] \n",
    "\n",
    "The cost is: 4 \n",
    "\n",
    "The time taken is: 0.002899646759033203 \n",
    "\n",
    "Iterations: 12\n"
   ],
   "cell_type": "markdown",
   "metadata": {}
  }
 ],
 "metadata": {
  "kernelspec": {
   "display_name": "Python 3.6.9 64-bit",
   "language": "python",
   "name": "python36964bit470afb7db70e4afda6adc759ef95f8be"
  },
  "language_info": {
   "codemirror_mode": {
    "name": "ipython",
    "version": 3
   },
   "file_extension": ".py",
   "mimetype": "text/x-python",
   "name": "python",
   "nbconvert_exporter": "python",
   "pygments_lexer": "ipython3",
   "version": "3.6.9-final"
  }
 },
 "nbformat": 4,
 "nbformat_minor": 4
}